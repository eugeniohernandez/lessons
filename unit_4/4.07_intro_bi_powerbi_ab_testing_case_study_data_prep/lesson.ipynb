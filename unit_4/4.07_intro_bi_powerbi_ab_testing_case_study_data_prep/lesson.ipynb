{
 "cells": [
  {
   "cell_type": "markdown",
   "metadata": {},
   "source": [
    "# Lesson 4.7: Intro to Business Intelligence tools and PowerBI\n",
    "\n",
    "### Lesson Duration: 3 hours\n",
    "\n",
    "> Purpose: The purpose of this lesson is to introduce business intelligence and business intelligence tool _PowerBI_ to the students. The accent is also on emphasizing that business knowledge is critical for business analysts/data analysts. We will also talk about `KPI`s and metrics. Also, we will explain the business case study (`A/B Testing`) for PowerBI.\n",
    "\n",
    "---\n",
    "\n",
    "### Setup\n",
    "\n",
    "- All previous installation\n",
    "- PowerBI installation (book at least 10-15 min of the class to make sure everyone has it, attendees will have completed an optional install PowerBI lab prior to this lesson) \n",
    "\n",
    "### Learning Objectives\n",
    "\n",
    "After this lesson, students will be able to:\n",
    "\n",
    "- Explain what is business intelligence/business analysis\n",
    "- Define and design some `KPI`s and metrics for business success tracking\n",
    "- Interpret the use and benefits of `A/B Testing` to make more informed product design decisions\n",
    "- Use PowerBI as a BI Tool to get more insights as a team. That includes:\n",
    "  - Connect PowerBI with different data sources\n",
    "  - Perform transformation steps on the data with PowerBI (+ power query)\n",
    "  - Navigate the PowerBI interface with confidence\n",
    "  - Explore the different features available in PowerBI and choose them according to the project needs\n",
    "\n",
    "---\n",
    "\n",
    "### Lesson 1 key concepts\n",
    "\n",
    "> :clock10: 20 min\n",
    "\n",
    "- Introduction to Business Intelligence\n",
    "- Available Business Intelligence tools\n",
    "- `KPI`s and metrics\n",
    "\n",
    "**Description: Intro to BI**\n",
    "\n",
    "**Business Intelligence** is an application of data analysis that aids companies in making data-driven decisions. Using Business Intelligence technologies, we can provide insights into the performance of a business in the past and the present as well as make predictions or recommendations for the future. A key difference between Business Intelligence and data analysis is those insights are meant to be actionable and geared towards helping a business make decisions.\n",
    "\n",
    "\n",
    "<br>\n",
    "\n",
    "**Description: BI Tools**\n",
    "\n",
    "- Business Intelligence tools are designed to make sense of the huge quantities of data that organizations accumulate over time. The BI tools analyze this information and present it as actionable information that can guide decision making.\n",
    "\n",
    "- Business Intelligence software makes up a large heterogeneous category of software. Not all tools in the category can be meaningfully compared to each other. There are several types of BI tools of which the most substantive are the _Full-Stack Business Intelligence Tools_ and _Data Visualization Tools_.\n",
    "\n",
    "  Some examples:\n",
    "  - Tableau\n",
    "  - Power BI\n",
    "  - SAP Business Intelligence\n",
    "  - Domo\n",
    "  - IBM cognos analytics\n",
    "  - Qliksense\n",
    "\n",
    "\n",
    "<br>\n",
    "\n",
    "\n",
    "**Description: KPIs and Metrics**\n",
    "\n",
    "A **metric** is a quantifiable measure that provides us with information about how well a company is doing at achieving its business objectives. Since companies can only improve the things they measure, it is a crucial part of an analyst's job to use the most appropriate metrics. Many companies like to use the term `KPI` (Key Performance Indicator) interchangeably with metrics. An example of a metric is the amount of money spent per sale or the percent of customers that buy a product out of all customers visiting the site."
   ]
  },
  {
   "cell_type": "markdown",
   "metadata": {},
   "source": [
    "# 4.07 Activity 1\n",
    "\n",
    "Think of possible `KPI`s in the context of Ironhack:\n",
    "\n",
    "- KPIs for the organization?\n",
    "- KPIs for your class?\n",
    "- KPIs for you as an individual student?"
   ]
  },
  {
   "cell_type": "markdown",
   "metadata": {},
   "source": [
    "### Solution / Example:\n",
    "_`KPI`s for the organization:_\n",
    "\n",
    "- Number/percentage of students asking for information\n",
    "- Number/percentage of students enrolled\n",
    "- Number/percentage of students hired in the 6 months after graduation\n",
    "- ...\n",
    "\n",
    "_`KPI`s for your class:_\n",
    "\n",
    "- Number of delayed labs\n",
    "- Kahoot points\n",
    "- Number of katas done\n",
    "\n",
    "_`KPI`s for you as an individual student:_\n",
    "\n",
    "- Time to complete lab\n",
    "- Kahoot points\n",
    "- Number of katas done\n",
    "- ...\n"
   ]
  },
  {
   "cell_type": "markdown",
   "metadata": {},
   "source": [
    "### Lesson 2 key concepts\n",
    "\n",
    "> :clock10: 20 min\n",
    "\n",
    "- Introduction to PowerBI\n",
    "- Introduction to a business problem - [**Slides**](https://docs.google.com/presentation/d/1bhXVQKmpkPgVUzIVOD8d8Ud7lG1O4wejByoRyTyjKJM/edit?usp=sharing)\n",
    "\n",
    "**Description: Intro to PowerBI**\n",
    "\n",
    "- **PowerBI** is one of the most popular and intuitive applications for business intelligence and report sharing. The application is familiar to users of Microsoft Excel, which makes it easy to connect to data sources, create plots, and perform basic analysis tasks to discover insights which can be shared within an organization. In this lesson, we will learn about the different features of PowerBI and how it can be a valuable addition to your analytics toolkit. We will also cover how to load data into PowerBI- and what kinds of data sources can be connected.\n",
    "\n",
    "<br>\n",
    "\n",
    "**Description: PowerBI features**\n",
    "      \n",
    " PowerBI has several features that make it a great tool for data analysis. In this section, we will highlight some of the most important ones:\n",
    "\n",
    "- _Data Transformations_: Using a familiar excel interface end users can create multi source data models and apply transformations, including calculated columns, aggregations, pivoting, even exploiting DAX language to create complex functions. \n",
    "- _Variety of Visualizations Types_: PowerBI has several types of visualizations you can use - from bar charts, line charts, and scatter plots to area charts, bubble charts, treemaps. Speaking of maps, it also allows you to visualize your data geographically.\n",
    "- _Report Sharing_: You can combine several visualizations into reports, add commentary and with PowerBI enterprise tools, create dashboards to share the insights. Everyone with an office 365 account can utilize PowerBI desktop at no additional cost, allowing them to develop and share filterable workbooks with colleagues.  \n",
    "\n",
    "\n",
    "<br>\n",
    "\n",
    "**Description: Intro to Business Problem**\n",
    "\n",
    "- [**Slides**](https://docs.google.com/presentation/d/1bhXVQKmpkPgVUzIVOD8d8Ud7lG1O4wejByoRyTyjKJM/edit?usp=sharing)"
   ]
  },
  {
   "cell_type": "markdown",
   "metadata": {},
   "source": [
    "### Lesson 3 key concepts\n",
    "\n",
    "> :clock10: 20 min\n",
    "\n",
    "- Introduction to `A/B Testing`\n",
    "- Data preparation for importing into PowerBI \n",
    "\n",
    "> [**Slides**](https://docs.google.com/presentation/d/1bhXVQKmpkPgVUzIVOD8d8Ud7lG1O4wejByoRyTyjKJM/edit?usp=sharing)\n",
    "\n",
    "**Introduction to `A/B Testing`**\n",
    "\n",
    "**Data preparation for importing into PowerBI**"
   ]
  },
  {
   "cell_type": "code",
   "execution_count": 2,
   "metadata": {},
   "outputs": [],
   "source": [
    "import pandas as pd\n",
    "import numpy as np\n",
    "pd.set_option('display.max_columns', None)"
   ]
  },
  {
   "cell_type": "code",
   "execution_count": 3,
   "metadata": {},
   "outputs": [
    {
     "name": "stdout",
     "output_type": "stream",
     "text": [
      "(70609, 9)\n"
     ]
    }
   ],
   "source": [
    "data1 = pd.read_csv('./ab_testing_case_study_docs/df_final_demo.txt')\n",
    "print(data1.shape)"
   ]
  },
  {
   "cell_type": "code",
   "execution_count": null,
   "metadata": {},
   "outputs": [],
   "source": [
    "data1['client_id'].nunique()  # To check if all the IDs in the data are unique\n",
    "data1.isna().sum()\n",
    "data1[data1['clnt_age'].isna()]\n",
    "data1 = data1.dropna()\n",
    "data1.to_csv('df_final_demo.csv') # Exporting data to a csv file"
   ]
  },
  {
   "cell_type": "code",
   "execution_count": null,
   "metadata": {},
   "outputs": [],
   "source": [
    "data2a = pd.read_csv('./ab_testing_case_study_docs/df_final_web_data_pt_1.txt')\n",
    "data2b = pd.read_csv('./ab_testing_case_study_docs/df_final_web_data_pt_2.txt')"
   ]
  },
  {
   "cell_type": "code",
   "execution_count": null,
   "metadata": {},
   "outputs": [],
   "source": [
    "data2a.head()\n",
    "data2b.head()"
   ]
  },
  {
   "cell_type": "code",
   "execution_count": null,
   "metadata": {},
   "outputs": [],
   "source": [
    "data2a.isna().sum()\n",
    "data2b.isna().sum()"
   ]
  },
  {
   "cell_type": "code",
   "execution_count": null,
   "metadata": {},
   "outputs": [],
   "source": [
    "data2a.to_csv('df_final_web_data_pt_1.csv')\n",
    "data2b.to_csv('df_final_web_data_pt_2.csv')"
   ]
  },
  {
   "cell_type": "code",
   "execution_count": null,
   "metadata": {},
   "outputs": [],
   "source": [
    "data2 = pd.concat([data2a, data2b], axis=0)\n",
    "data2.to_csv('df_final_web_data.csv')"
   ]
  },
  {
   "cell_type": "markdown",
   "metadata": {},
   "source": [
    "# 4.07 Activity 3\n",
    "\n",
    "- Think of metrics for our `A/B experiment`.\n",
    "- Think about how to present visually the results of the experiment."
   ]
  },
  {
   "cell_type": "markdown",
   "metadata": {},
   "source": [
    "## Solution"
   ]
  },
  {
   "cell_type": "markdown",
   "metadata": {},
   "source": [
    "- Total number of customers that confirm the transaction\n",
    "- Percentage of customers per process step in both variation groups\n",
    "\n",
    "      - Line plot\n",
    "      - Bar plot"
   ]
  },
  {
   "cell_type": "markdown",
   "metadata": {},
   "source": [
    "### Lesson 4 key concepts\n",
    "\n",
    "> :clock10: 20 min\n",
    "\n",
    "- Data preparation for PowerBI\n",
    "- Importing data into PowerBI\n",
    "\n",
    "**Data Preparation**\n",
    "\n",
    "- Merging the two files"
   ]
  },
  {
   "cell_type": "code",
   "execution_count": null,
   "metadata": {},
   "outputs": [],
   "source": [
    "data1.head()\n",
    "data2.head()"
   ]
  },
  {
   "cell_type": "code",
   "execution_count": null,
   "metadata": {},
   "outputs": [],
   "source": [
    "data = data2.merge(data1, left_on='client_id', right_on='client_id')\n",
    "print(data.shape)\n",
    "data.head()"
   ]
  },
  {
   "cell_type": "markdown",
   "metadata": {},
   "source": [
    "Note: The size of the original `data2` merged file was ~700k but this merged file has ~450k. This means that there are a lot of clients in the `data1` file that are not present here."
   ]
  },
  {
   "cell_type": "code",
   "execution_count": null,
   "metadata": {},
   "outputs": [],
   "source": [
    "data3 = pd.read_csv('./ab_testing_case_study_docs/df_final_experiment_clients.txt')\n",
    "data3.head()"
   ]
  },
  {
   "cell_type": "code",
   "execution_count": null,
   "metadata": {},
   "outputs": [],
   "source": [
    "data3.isna().sum()\n",
    "data3 = data3.dropna()"
   ]
  },
  {
   "cell_type": "code",
   "execution_count": null,
   "metadata": {},
   "outputs": [],
   "source": [
    "# Checking for unique clients\n",
    "print(data3.shape)\n",
    "data3['client_id'].nunique()"
   ]
  },
  {
   "cell_type": "code",
   "execution_count": null,
   "metadata": {},
   "outputs": [],
   "source": [
    "data = data.merge(data3, left_on='client_id', right_on='client_id')\n",
    "data3.to_csv('df_final_experiment_clients.csv')"
   ]
  },
  {
   "cell_type": "code",
   "execution_count": null,
   "metadata": {},
   "outputs": [],
   "source": [
    "# As you can see, again there is information size drop from ~450k to ~320k.\n",
    "# You can find out who were the clients whose\n",
    "# information was available on data3 but not in data2."
   ]
  },
  {
   "cell_type": "code",
   "execution_count": null,
   "metadata": {},
   "outputs": [],
   "source": [
    "data['date_time'] = pd.to_datetime(data['date_time'])\n",
    "data.to_csv('finalMergedFile.csv')\n",
    "data.shape"
   ]
  },
  {
   "cell_type": "code",
   "execution_count": null,
   "metadata": {},
   "outputs": [],
   "source": [
    "df = data.copy()  # we will use df to analyze data with python later"
   ]
  },
  {
   "cell_type": "markdown",
   "metadata": {},
   "source": [
    "Note: We will use the final merged file as the get data source for PowerBI (type : text file).\n",
    "\n",
    "Steps : \n",
    "\n",
    "- launch PowerBI \n",
    "- get data \n",
    "- common data sources - selecting a single data source (merged csv)\n",
    "- how to preview and transform column types \n",
    "- how to rename columns \n",
    "- load data\n",
    "- how to return to the data query if needed afterwards\n",
    "- the modes of the user interface : report, data, model \n",
    "- fields, visualizations - expand collapse, step by step show the creation of a simple plot (bar or scatter) with X Y legend\n",
    "- create table by selecting fields and not using the visualizations pane\n",
    "- filters - apply one filter "
   ]
  },
  {
   "cell_type": "markdown",
   "metadata": {},
   "source": [
    "# 4.07 Activity 4\n",
    "\n",
    "Get data  `files_for_activities/finalMergedFile.csv` into PowerBI.\n",
    "\n",
    "- Explore the fields and field types. Are they the same as those in your Pandas dataframe?\n",
    "- Create a simple stacked bar chart with gender on the color legend, test variation on the Y axis, count of visitor id on the X axis. \n",
    "- What insight can you gain from the plot? "
   ]
  },
  {
   "cell_type": "markdown",
   "metadata": {},
   "source": [
    "\n",
    "# Lab | Getting started with PowerBi\n",
    "\n",
    "Refer to the `files_for_lab/we_fn_use_c_marketing_customer_value_analysis.csv` dataset.\n",
    "\n",
    "### Instructions\n",
    "1. Load the dataset to your PowerBI workbook.\n",
    "2. Go to Transform Data. Review the data values in fields and column data types. \n",
    "3. Change decimal fields customer lifetime value and claim amount to fixed decimals (2 decimal places) by adding a transform step. Bonus - rename the steps as 'reduce decimals <fieldname>' for transparency\n",
    "4. Review column names to confirm they are correct and clear before saving and loading the changes to your workbook\n",
    "5. Select the first bar chart in the visualisations pane with Number of Policies and Coverage- to show the number of policies per **Coverage type**. Note the title now matches the purpose of the chart. Rename the tab 'bar chart'\n",
    "6. In a new report page. Create a table by ignoring the visualisations pane, and selecting Coverage, Number of Policies, Number of Open Complaints. Rename the tab as 'table'\n",
    "8. Save your powerbi workbook as `unit_4_lab.pbix`. Push to git hub and provide the url to complete the lab"
   ]
  },
  {
   "cell_type": "code",
   "execution_count": null,
   "metadata": {},
   "outputs": [],
   "source": []
  }
 ],
 "metadata": {
  "kernelspec": {
   "display_name": "Python 3",
   "language": "python",
   "name": "python3"
  },
  "language_info": {
   "codemirror_mode": {
    "name": "ipython",
    "version": 3
   },
   "file_extension": ".py",
   "mimetype": "text/x-python",
   "name": "python",
   "nbconvert_exporter": "python",
   "pygments_lexer": "ipython3",
   "version": "3.7.0"
  }
 },
 "nbformat": 4,
 "nbformat_minor": 4
}
