{
 "cells": [
  {
   "cell_type": "markdown",
   "id": "fb21a82d-e78f-4127-8f14-5eca13cdcfe4",
   "metadata": {},
   "source": [
    "# Lab | SQL Queries 6\n",
    "\n",
    "In this activity we are going to do some database maintenance. In the current database we only have information on movies for the year 2006. Now we have received the film catalog for 2020 as well. For this new data we will create another table and bulk insert all the data there. Code to create a new table has been provided below.\n",
    "\n",
    "```sql\n",
    "drop table if exists films_2020;\n",
    "CREATE TABLE `films_2020` (\n",
    "  `film_id` smallint(5) unsigned NOT NULL AUTO_INCREMENT,\n",
    "  `title` varchar(255) NOT NULL,\n",
    "  `description` text,\n",
    "  `release_year` year(4) DEFAULT NULL,\n",
    "  `language_id` tinyint(3) unsigned NOT NULL,\n",
    "  `original_language_id` tinyint(3) unsigned DEFAULT NULL,\n",
    "  `rental_duration` int(6),\n",
    "  `rental_rate` decimal(4,2),\n",
    "  `length` smallint(5) unsigned DEFAULT NULL,\n",
    "  `replacement_cost` decimal(5,2) DEFAULT NULL,\n",
    "  `rating` enum('G','PG','PG-13','R','NC-17') DEFAULT NULL,\n",
    "  PRIMARY KEY (`film_id`),\n",
    "  CONSTRAINT FOREIGN KEY (`original_language_id`) REFERENCES `language` (`language_id`) ON DELETE RESTRICT ON UPDATE CASCADE\n",
    ") ENGINE=InnoDB AUTO_INCREMENT=1003 DEFAULT CHARSET=utf8;\n",
    "```\n",
    "\n",
    "<br>\n",
    "\n",
    "We have just one item for each film, and all will be placed in the new table. For 2020, the rental duration will be 3 days, with an offer price of `2.99€` and a replacement cost of `8.99€` (these are all fixed values for all movies for this year). The catalog is in a CSV file named **films_2020.csv** that can be found at `files_for_lab` folder.\n",
    "\n",
    "### Instructions\n",
    "\n",
    "- Add the new films to the database.\n",
    "- Update information on `rental_duration`, `rental_rate`, and `replacement_cost`."
   ]
  },
  {
   "cell_type": "markdown",
   "id": "0809dbcb-102c-4cb9-971a-248b7c66ff76",
   "metadata": {},
   "source": [
    "### Add the new films to the database."
   ]
  },
  {
   "cell_type": "code",
   "execution_count": null,
   "id": "3f01b69b-34c9-49c8-b571-7ea144f861c2",
   "metadata": {},
   "outputs": [],
   "source": [
    "show variables like 'local_infile';\n",
    "set global local_infile = 1;\n",
    "\n",
    "load data local infile './files_for_lab/films_2020.csv' -- provide the complete path of the file\n",
    "into table films_2020\n",
    "fields terminated BY ',';"
   ]
  },
  {
   "cell_type": "markdown",
   "id": "b4aa86a5-febb-4571-a5a4-a8293933fade",
   "metadata": {},
   "source": [
    "### Update information on `rental_duration`, `rental_rate`, and `replacement_cost`."
   ]
  },
  {
   "cell_type": "code",
   "execution_count": null,
   "id": "57fade3b-0f71-40f3-8b9b-6de99bcb4fdb",
   "metadata": {},
   "outputs": [],
   "source": [
    "update films_2020\n",
    "set rental_duration = 3, rental_rate = 2.99, replacement_cost = 8.99\n",
    "where description = 2020;"
   ]
  }
 ],
 "metadata": {
  "kernelspec": {
   "display_name": "Python 3 (ipykernel)",
   "language": "python",
   "name": "python3"
  },
  "language_info": {
   "codemirror_mode": {
    "name": "ipython",
    "version": 3
   },
   "file_extension": ".py",
   "mimetype": "text/x-python",
   "name": "python",
   "nbconvert_exporter": "python",
   "pygments_lexer": "ipython3",
   "version": "3.9.12"
  }
 },
 "nbformat": 4,
 "nbformat_minor": 5
}
