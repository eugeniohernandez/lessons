{
 "cells": [
  {
   "cell_type": "markdown",
   "id": "8405a7d3-54ef-48b2-9520-eae7940e48db",
   "metadata": {},
   "source": [
    "# Lab | Customer Analysis Round 2\n",
    "\n",
    "For this lab, we will be using the `marketing_customer_analysis.csv` file that you can find in the `files_for_lab` folder. Check out the `files_for_lab/about.md` to get more information if you are using the Online Excel.\n",
    "\n",
    "**Note**: For the next labs we will be using the same data file. Please save the code, so that you can re-use it later in the labs following this lab.\n",
    "\n",
    "### Dealing with the data\n",
    "\n",
    "1. Show the dataframe shape.\n",
    "2. Standardize header names.\n",
    "3. Which columns are numerical?\n",
    "4. Which columns are categorical?\n",
    "5. Check and deal with `NaN` values.\n",
    "6. Datetime format - Extract the months from the dataset and store in a separate column. Then filter the data to show only the information for the first quarter , ie. January, February and March. _Hint_: If data from March does not exist, consider only January and February.\n",
    "7. BONUS: Put all the previously mentioned data transformations into a function."
   ]
  },
  {
   "cell_type": "code",
   "execution_count": 41,
   "id": "8a25e27c-de9e-41ec-a806-54ea197013bb",
   "metadata": {},
   "outputs": [],
   "source": [
    "import pandas as pd\n",
    "import numpy as np\n",
    "\n",
    "data = pd.read_csv('./files_for_lab/marketing_customer_analysis.csv')"
   ]
  },
  {
   "cell_type": "markdown",
   "id": "d43dac44-b9c9-4bf2-a6c9-cad60c9c3380",
   "metadata": {},
   "source": [
    "1. Show the dataframe shape."
   ]
  },
  {
   "cell_type": "code",
   "execution_count": 14,
   "id": "e1c843c3-c1f6-44c8-a248-d814c5af6067",
   "metadata": {},
   "outputs": [
    {
     "data": {
      "text/plain": [
       "(9134, 24)"
      ]
     },
     "execution_count": 14,
     "metadata": {},
     "output_type": "execute_result"
    }
   ],
   "source": [
    "data.shape"
   ]
  },
  {
   "cell_type": "markdown",
   "id": "d0c9da6e-5330-4dd9-af32-26f3508e0e87",
   "metadata": {},
   "source": [
    "2. Standardize header names.\n"
   ]
  },
  {
   "cell_type": "code",
   "execution_count": 20,
   "id": "4060ea3e-fc9e-4c9c-a8b6-44af1d00da87",
   "metadata": {},
   "outputs": [
    {
     "name": "stdout",
     "output_type": "stream",
     "text": [
      "Index(['Customer', 'State', 'Customer Lifetime Value', 'Response', 'Coverage',\n",
      "       'Education', 'Effective To Date', 'EmploymentStatus', 'Gender',\n",
      "       'Income', 'Location Code', 'Marital Status', 'Monthly Premium Auto',\n",
      "       'Months Since Last Claim', 'Months Since Policy Inception',\n",
      "       'Number of Open Complaints', 'Number of Policies', 'Policy Type',\n",
      "       'Policy', 'Renew Offer Type', 'Sales Channel', 'Total Claim Amount',\n",
      "       'Vehicle Class', 'Vehicle Size'],\n",
      "      dtype='object')\n",
      "\n",
      "Column Names look OK\n"
     ]
    }
   ],
   "source": [
    "print(data.columns)\n",
    "\n",
    "print(\"\\nColumn Names look OK\")"
   ]
  },
  {
   "cell_type": "markdown",
   "id": "b3bef8c2-f6cc-4221-8758-5c4dc4a2f3db",
   "metadata": {},
   "source": [
    "3. Which columns are numerical?\n"
   ]
  },
  {
   "cell_type": "code",
   "execution_count": 33,
   "id": "a4b9c6a9-f32e-4dbb-a99b-9f6c76a3813e",
   "metadata": {},
   "outputs": [
    {
     "name": "stdout",
     "output_type": "stream",
     "text": [
      "\n",
      "Numerical columns are: ['Customer Lifetime Value', 'Income', 'Monthly Premium Auto', 'Months Since Last Claim', 'Months Since Policy Inception', 'Number of Open Complaints', 'Number of Policies', 'Total Claim Amount']\n"
     ]
    }
   ],
   "source": [
    "# Método \"convencional\"\n",
    "\n",
    "numerical = []\n",
    "\n",
    "for elem in data._get_numeric_data(): numerical.append(elem)\n",
    "\n",
    "print(\"\\nNumerical columns are:\", numerical)"
   ]
  },
  {
   "cell_type": "code",
   "execution_count": 35,
   "id": "c2841b85-7f47-4573-b012-165503117da5",
   "metadata": {},
   "outputs": [
    {
     "name": "stdout",
     "output_type": "stream",
     "text": [
      "\n",
      "Numerical columns are: ['Customer Lifetime Value', 'Income', 'Monthly Premium Auto', 'Months Since Last Claim', 'Months Since Policy Inception', 'Number of Open Complaints', 'Number of Policies', 'Total Claim Amount']\n"
     ]
    }
   ],
   "source": [
    "# Mediante list comprehension\n",
    "\n",
    "numerical = [elem for elem in data._get_numeric_data()]\n",
    "\n",
    "print(\"\\nNumerical columns are:\", numerical)"
   ]
  },
  {
   "cell_type": "markdown",
   "id": "6b534dda-f7ed-47eb-a0dd-191450224c46",
   "metadata": {},
   "source": [
    "4. Which columns are categorical?\n"
   ]
  },
  {
   "cell_type": "code",
   "execution_count": 51,
   "id": "d77f8213-0054-4a85-9f01-3389b97610fb",
   "metadata": {},
   "outputs": [
    {
     "name": "stdout",
     "output_type": "stream",
     "text": [
      "Las columnas categóricas son:  ['State', 'Response', 'Coverage', 'Education', 'EmploymentStatus', 'Gender', 'Location Code', 'Marital Status', 'Number of Open Complaints', 'Number of Policies', 'Policy Type', 'Policy', 'Renew Offer Type', 'Sales Channel', 'Vehicle Class', 'Vehicle Size']\n"
     ]
    }
   ],
   "source": [
    "# Dado que todas están tipificadas como \"object\", busco las categóricas en aquellas que tengan n (10) o menos valores únicos.\n",
    "\n",
    "categorical = []\n",
    "for i in data.columns:   \n",
    "    if len(pd.unique(data[i]))<=10:\n",
    "        categorical.append(i)\n",
    "print(\"Las columnas categóricas son: \", categorical)\n",
    "    \n"
   ]
  },
  {
   "cell_type": "markdown",
   "id": "3f2d156b-6590-4300-8f77-ec4744fe8fab",
   "metadata": {},
   "source": [
    "5. Check and deal with `NaN` values.\n"
   ]
  },
  {
   "cell_type": "code",
   "execution_count": null,
   "id": "17786994-78b3-45ba-a314-c2a84cdc7be0",
   "metadata": {},
   "outputs": [],
   "source": [
    "# There's no NaN values"
   ]
  },
  {
   "cell_type": "markdown",
   "id": "8bc4af0c-15fd-426d-86ac-2c2915ed6dc8",
   "metadata": {},
   "source": [
    "6. Datetime format - Extract the months from the dataset and store in a separate column. Then filter the data to show only the information for the first quarter , ie. January, February and March. _Hint_: If data from March does not exist, consider only January and February.\n"
   ]
  },
  {
   "cell_type": "code",
   "execution_count": null,
   "id": "e5b48ca9-af77-4ee4-b1da-9e85ac601ccd",
   "metadata": {},
   "outputs": [],
   "source": [
    "# Creo una nueva columna donde meot lo que había en la columna Effective To Date pero convertido a formato fecha\n",
    "data['Months'] = pd.to_datetime(data['Effective To Date'])\n",
    "# La modifico para quedarme únicamente con la información del mes\n",
    "data['Months'] = data['Months'].dt.month"
   ]
  },
  {
   "cell_type": "markdown",
   "id": "38670b8d-ef74-4e22-bd41-9bf079a82f24",
   "metadata": {},
   "source": [
    "7. BONUS: Put all the previously mentioned data transformations into a function."
   ]
  },
  {
   "cell_type": "code",
   "execution_count": null,
   "id": "78a853de-7b33-4312-a7fd-e0a1ab957931",
   "metadata": {},
   "outputs": [],
   "source": [
    "def funcion(data):\n",
    "    data['Months'] = pd.to_datetime(data['Effective To Date'])\n",
    "    data['Months'] = data['Months'].dt.month\n",
    "    return(data)"
   ]
  }
 ],
 "metadata": {
  "kernelspec": {
   "display_name": "Python 3 (ipykernel)",
   "language": "python",
   "name": "python3"
  },
  "language_info": {
   "codemirror_mode": {
    "name": "ipython",
    "version": 3
   },
   "file_extension": ".py",
   "mimetype": "text/x-python",
   "name": "python",
   "nbconvert_exporter": "python",
   "pygments_lexer": "ipython3",
   "version": "3.9.12"
  }
 },
 "nbformat": 4,
 "nbformat_minor": 5
}
