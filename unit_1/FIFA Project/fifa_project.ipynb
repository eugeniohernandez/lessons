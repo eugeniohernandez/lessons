{
 "cells": [
  {
   "cell_type": "markdown",
   "metadata": {},
   "source": [
    "Your FIFA project goes here:"
   ]
  },
  {
   "cell_type": "code",
   "execution_count": 1,
   "metadata": {},
   "outputs": [],
   "source": [
    "import pandas as pd\n",
    "import numpy as np"
   ]
  },
  {
   "cell_type": "code",
   "execution_count": 2,
   "metadata": {},
   "outputs": [],
   "source": [
    "data = pd.read_csv(\"./file_for_project/fifa21_training.csv\")\n",
    "\n",
    "#Consulta de valores NaN:\n",
    "#for elem in data.columns:\n",
    "#    print(data[elem].isna().sum(),elem)"
   ]
  },
  {
   "cell_type": "code",
   "execution_count": 3,
   "metadata": {
    "tags": []
   },
   "outputs": [],
   "source": [
    "data.columns = [e.lower().replace(' ' , '_') for e in data.columns] #unificamos formato nombres\n",
    "\n",
    "data = data.drop(columns=[\"unnamed:_0\",\"id\",'name','bp','nationality','team_&_contract'\n",
    "        ,'club','joined','loan_date_end','contract'])\n",
    "\n",
    "data['position'] = data['position'].fillna('0')\n",
    "\n",
    "data = data.dropna()\n",
    "\n",
    "columns = data.columns.tolist()"
   ]
  },
  {
   "cell_type": "code",
   "execution_count": 4,
   "metadata": {},
   "outputs": [],
   "source": [
    "#Funciones\n",
    "\n",
    "def dinero(x):\n",
    "    if '.' in x and 'K' in x:\n",
    "        x=x.replace('K','00')\n",
    "        x=x.replace('.','')\n",
    "    else:\n",
    "        x=x.replace('K','000')\n",
    "    \n",
    "    if '.' in x and 'M' in x:\n",
    "        x=x.replace('M','00000')\n",
    "        x=x.replace('.','')\n",
    "    else:\n",
    "        x=x.replace('M','000000')\n",
    "        \n",
    "    x=x.replace('€','')\n",
    "    x=x.replace('$','')\n",
    "    x=int(x)\n",
    "    return x\n",
    "\n",
    "def estrella(x):\n",
    "    return int(x[0])\n",
    "\n",
    "def himelo(x):\n",
    "    if x == 'High':\n",
    "        return 3\n",
    "    if x == 'Medium':\n",
    "        return 2\n",
    "    if x == 'Low':\n",
    "        return 1\n",
    "    \n",
    "def peso(x):\n",
    "    return int(x.split('l')[0])\n",
    "\n",
    "def altura(x):\n",
    "    metros = int(x[0])*0.3048*100\n",
    "    centimetros = int(x[-2])*2.54\n",
    "    return metros+centimetros"
   ]
  },
  {
   "cell_type": "code",
   "execution_count": 5,
   "metadata": {},
   "outputs": [],
   "source": [
    "# Conversión de columnas relativamente directa\n",
    "\n",
    "data['position'] = [len(a.split(' ')) if a!='0' else 0 for a in data['position']]\n",
    "data['wage'] = [dinero(wage) for wage in data['wage']]\n",
    "data['release_clause'] = [dinero(rc) for rc in data['release_clause']]\n",
    "data['value'] = [dinero(value) for value in data['value']]\n",
    "data['w/f'] = [estrella(x) for x in data['w/f']]\n",
    "data['sm'] = [estrella(x) for x in data['sm']]\n",
    "data['a/w'] = [himelo(x) for x in data['a/w']]\n",
    "data['d/w'] = [himelo(x) for x in data['d/w']]\n",
    "data['ir'] = [estrella(x) for x in data['ir']]\n",
    "data['hits'] = [dinero(x) for x in data['hits']]\n",
    "data['weight'] = [peso(w) for w in data['weight']]\n",
    "data['height'] = [altura(h) for h in data['height']]"
   ]
  },
  {
   "cell_type": "code",
   "execution_count": 6,
   "metadata": {},
   "outputs": [],
   "source": [
    "# Conversión en masa de algunas columnas\n",
    "\n",
    "col_con_mas = ['ls','st', 'rs', 'lw', 'lf', 'cf', 'rf',\n",
    "       'rw', 'lam', 'cam', 'ram', 'lm', 'lcm', 'cm', 'rcm', 'rm', 'lwb', 'ldm',\n",
    "       'cdm', 'rdm', 'rwb', 'lb', 'lcb', 'cb', 'rcb', 'rb', 'gk']\n",
    "\n",
    "for i in col_con_mas:\n",
    "    data[i+'+'] = [int(x.split('+')[1]) for x in data[i]]\n",
    "    data[i] = [int(x.split('+')[0]) for x in data[i]]"
   ]
  },
  {
   "cell_type": "code",
   "execution_count": 7,
   "metadata": {},
   "outputs": [],
   "source": [
    "# Estudio de la información\n",
    "\n",
    "import seaborn as sns\n",
    "import matplotlib.pyplot as plt\n",
    "%matplotlib inline\n",
    "\n",
    "#Matriz de correlaciones\n",
    "\n",
    "#corr = data.corr()\n",
    "#mask = np.triu(np.ones_like(corr, dtype=np.bool))\n",
    "#f, ax = plt.subplots(figsize=(11, 9))\n",
    "#cmap = sns.diverging_palette(220, 10, as_cmap=True)\n",
    "\n",
    "#sns.heatmap(corr, mask=mask, cmap=cmap, vmax=.3, center=0, square=True, linewidths=.5, cbar_kws={'shrink':.5});\n",
    "\n",
    "# Salvo para las variables de portero, no se aprecian correlaciones significativas"
   ]
  },
  {
   "cell_type": "code",
   "execution_count": 8,
   "metadata": {},
   "outputs": [],
   "source": [
    "# Estandarizar columnas numéricas (Todas entre -1 y 1) --> Quizá es mejor quitando antes outliers\n",
    "\n",
    "from sklearn.preprocessing import StandardScaler\n",
    "\n",
    "num_cols = [col for col in data.columns if (data[col].dtype!='object')]\n",
    "\n",
    "#for col in num_cols[:-1]:\n",
    " #   data[col] = StandardScaler().fit_transform(data[col].values.reshape(-1,1))"
   ]
  },
  {
   "cell_type": "code",
   "execution_count": 9,
   "metadata": {},
   "outputs": [],
   "source": [
    "#for c in num_cols:\n",
    " #   plt.figure(figsize=(10,5))\n",
    "  #  plt.boxplot(data[c])\n",
    "   # plt.title(c)\n",
    "    #plt.show();\n",
    "    \n",
    "log_cols = ['value','wage','release_clause','goalkeeping','gk_diving'\n",
    "            ,'gk_handling','gk_kicking','gk_positioning','gk_reflexes']"
   ]
  },
  {
   "cell_type": "code",
   "execution_count": 10,
   "metadata": {},
   "outputs": [
    {
     "name": "stderr",
     "output_type": "stream",
     "text": [
      "C:\\Users\\EB885UN\\AppData\\Local\\Temp\\ipykernel_24376\\2742457897.py:2: RuntimeWarning: divide by zero encountered in log\n",
      "  x = np.log(x)\n",
      "C:\\Users\\EB885UN\\AppData\\Local\\Temp\\ipykernel_24376\\2742457897.py:2: RuntimeWarning: divide by zero encountered in log\n",
      "  x = np.log(x)\n",
      "C:\\Users\\EB885UN\\AppData\\Local\\Temp\\ipykernel_24376\\2742457897.py:2: RuntimeWarning: divide by zero encountered in log\n",
      "  x = np.log(x)\n"
     ]
    }
   ],
   "source": [
    "def log_transfom_clean1(x):\n",
    "    x = np.log(x)\n",
    "    if np.isfinite(x): #para protegernos del hecho de que log(0) = infinito\n",
    "        return x\n",
    "    else:\n",
    "        return 0\n",
    "\n",
    "for i in log_cols:\n",
    "    data[i+'_log'] = list(map(log_transfom_clean1, data[i]))"
   ]
  },
  {
   "cell_type": "code",
   "execution_count": 11,
   "metadata": {},
   "outputs": [],
   "source": [
    "#for i in log_cols:   \n",
    "#    plt.figure(figsize=(10,5))\n",
    "#    plt.boxplot(data[i+'_log'])\n",
    "#    plt.title(i+'_log')\n",
    "#    plt.show();"
   ]
  },
  {
   "cell_type": "code",
   "execution_count": 12,
   "metadata": {},
   "outputs": [],
   "source": [
    "for i in log_cols:\n",
    "    data = data.loc[data[i+'_log'] > 0 ]\n",
    "#    sns.distplot(data[i+'_log'])\n",
    "#    plt.show()\n",
    "    \n",
    "\n",
    "for i in log_cols:\n",
    "    data.drop(i, axis=1, inplace=True)"
   ]
  },
  {
   "cell_type": "code",
   "execution_count": 13,
   "metadata": {},
   "outputs": [
    {
     "data": {
      "text/plain": [
       "0        1\n",
       "2        1\n",
       "3        1\n",
       "4        1\n",
       "5        1\n",
       "        ..\n",
       "13695    0\n",
       "13696    1\n",
       "13697    0\n",
       "13698    1\n",
       "13699    1\n",
       "Name: foot, Length: 12267, dtype: uint8"
      ]
     },
     "execution_count": 13,
     "metadata": {},
     "output_type": "execute_result"
    }
   ],
   "source": [
    "# One Hot Data de la información categórica\n",
    "\n",
    "data['foot'] = pd.get_dummies(data['foot'], drop_first=True)\n",
    "data['foot']"
   ]
  },
  {
   "cell_type": "code",
   "execution_count": 14,
   "metadata": {},
   "outputs": [],
   "source": [
    "cols = list(data.columns)\n",
    "cols.remove('ova')"
   ]
  },
  {
   "cell_type": "code",
   "execution_count": 15,
   "metadata": {},
   "outputs": [],
   "source": [
    "#Normalizar\n",
    "\n",
    "for c in data[cols]:   # we'll normalize all less the target column\n",
    "    data[c]=StandardScaler().fit_transform(data[c].values.reshape(-1,1))"
   ]
  },
  {
   "cell_type": "code",
   "execution_count": 16,
   "metadata": {},
   "outputs": [
    {
     "name": "stdout",
     "output_type": "stream",
     "text": [
      "(12267, 118)\n",
      "(12267,)\n"
     ]
    }
   ],
   "source": [
    "# first, split X-y (learning-target data)\n",
    "X=data.drop(columns=['ova'])\n",
    "y=data['ova']\n",
    "\n",
    "# checking shape\n",
    "print(X.shape)\n",
    "print(y.shape)\n",
    "\n",
    "# train_test_split\n",
    "from sklearn.model_selection import train_test_split as tts\n",
    "\n",
    "# train-test-split (4 sets)\n",
    "\n",
    "X_train, X_test, y_train, y_test = tts(X, y, test_size=0.2, random_state=42)  # random state fixed sample"
   ]
  },
  {
   "cell_type": "code",
   "execution_count": 17,
   "metadata": {},
   "outputs": [
    {
     "name": "stderr",
     "output_type": "stream",
     "text": [
      "C:\\Users\\EB885UN\\Anaconda3\\lib\\site-packages\\xgboost\\compat.py:36: FutureWarning: pandas.Int64Index is deprecated and will be removed from pandas in a future version. Use pandas.Index with the appropriate dtype instead.\n",
      "  from pandas import MultiIndex, Int64Index\n",
      "C:\\Users\\EB885UN\\Anaconda3\\lib\\site-packages\\xgboost\\data.py:250: FutureWarning: pandas.Int64Index is deprecated and will be removed from pandas in a future version. Use pandas.Index with the appropriate dtype instead.\n",
      "  elif isinstance(data.columns, (pd.Int64Index, pd.RangeIndex)):\n"
     ]
    },
    {
     "name": "stdout",
     "output_type": "stream",
     "text": [
      "Model: linreg, train R2: 0.9728690297447633 -- test R2: 0.9745579247887602\n",
      "Model: lasso, train R2: 0.9415315584722402 -- test R2: 0.9443437170926562\n",
      "Model: ridge, train R2: 0.9823240434559808 -- test R2: 0.9835217941684088\n",
      "Model: elastic, train R2: 0.9319528077806686 -- test R2: 0.9330366528972902\n",
      "Model: rfr, train R2: 0.9994949194023122 -- test R2: 0.9969171883078182\n",
      "Model: xgbr, train R2: 0.9995190395518598 -- test R2: 0.996547653654479\n",
      "Model: lgbmr, train R2: 0.9988172904021897 -- test R2: 0.9975520021675949\n"
     ]
    }
   ],
   "source": [
    "# Crear los modelos\n",
    "\n",
    "from sklearn.linear_model import LinearRegression as LinReg\n",
    "linreg=LinReg()    # model\n",
    "linreg.fit(X_train, y_train)   # model train\n",
    "y_pred_linreg=linreg.predict(X_test)   # model prediction\n",
    "\n",
    "from sklearn.linear_model import Lasso       # L1\n",
    "from sklearn.linear_model import Ridge       # L2\n",
    "from sklearn.linear_model import ElasticNet  # L1+L2\n",
    "\n",
    "# Lasso L1\n",
    "\n",
    "lasso=Lasso()\n",
    "lasso.fit(X_train, y_train)\n",
    "\n",
    "y_pred_lasso = lasso.predict(X_test)\n",
    "\n",
    "# Ridge L2\n",
    "\n",
    "ridge=Ridge()\n",
    "ridge.fit(X_train, y_train)\n",
    "\n",
    "y_pred_ridge = ridge.predict(X_test)\n",
    "\n",
    "# ElasticNet L1+L2\n",
    "\n",
    "elastic=ElasticNet()\n",
    "elastic.fit(X_train, y_train)\n",
    "\n",
    "y_pred_elastic = elastic.predict(X_test)\n",
    "\n",
    "from sklearn.ensemble import RandomForestRegressor as RFR\n",
    "\n",
    "rfr=RFR()\n",
    "rfr.fit(X_train, y_train)\n",
    "\n",
    "y_pred_rfr = rfr.predict(X_test)\n",
    "\n",
    "from xgboost import XGBRegressor as XGBR\n",
    "\n",
    "xgbr=XGBR()\n",
    "xgbr.fit(X_train, y_train)\n",
    "\n",
    "y_pred_xgbr = xgbr.predict(X_test)\n",
    "\n",
    "from lightgbm import LGBMRegressor as LGBMR\n",
    "\n",
    "lgbmr=LGBMR()\n",
    "lgbmr.fit(X_train, y_train)\n",
    "\n",
    "y_pred_lgbmr = lgbmr.predict(X_test)\n",
    "\n",
    "models=[linreg, lasso, ridge, elastic, rfr, xgbr, lgbmr]\n",
    "model_names=['linreg', 'lasso', 'ridge', 'elastic', 'rfr', 'xgbr', 'lgbmr']\n",
    "preds=[y_pred_linreg, y_pred_lasso, y_pred_ridge, y_pred_elastic, y_pred_rfr, y_pred_xgbr, y_pred_lgbmr]\n",
    "\n",
    "for i in range(len(models)):\n",
    "\n",
    "    train_score=models[i].score(X_train, y_train) #R2\n",
    "    test_score=models[i].score(X_test, y_test)\n",
    "\n",
    "    print ('Model: {}, train R2: {} -- test R2: {}'.format(model_names[i], train_score, test_score))\n",
    "\n",
    "    "
   ]
  },
  {
   "cell_type": "code",
   "execution_count": 18,
   "metadata": {},
   "outputs": [],
   "source": [
    "from sklearn.metrics import mean_absolute_error\n",
    "from sklearn.metrics import mean_squared_error\n",
    "from sklearn.metrics import r2_score\n",
    "\n",
    "mae = []\n",
    "mse = []\n",
    "rmse = []\n",
    "mape = []\n",
    "r2 = []\n",
    "\n",
    "for i in preds:\n",
    "    mae.append(np.round(mean_absolute_error(y_test, i), 2))\n",
    "    mse.append(np.round(mean_squared_error(y_test,i),2))\n",
    "    rmse.append(np.round(np.sqrt(mse[-1]),2))\n",
    "    mape.append(np.round(np.mean((y_test - i)/y)*100,2))\n",
    "    r2.append(np.round(r2_score(y_test, i), 2))"
   ]
  },
  {
   "cell_type": "code",
   "execution_count": 19,
   "metadata": {},
   "outputs": [
    {
     "data": {
      "text/plain": [
       "[0.87, 1.21, 0.69, 1.38, 0.22, 0.26, 0.23]"
      ]
     },
     "execution_count": 19,
     "metadata": {},
     "output_type": "execute_result"
    }
   ],
   "source": [
    "mae"
   ]
  },
  {
   "cell_type": "code",
   "execution_count": 20,
   "metadata": {},
   "outputs": [
    {
     "data": {
      "text/plain": [
       "[1.24, 2.72, 0.8, 3.27, 0.15, 0.17, 0.12]"
      ]
     },
     "execution_count": 20,
     "metadata": {},
     "output_type": "execute_result"
    }
   ],
   "source": [
    "mse"
   ]
  },
  {
   "cell_type": "code",
   "execution_count": 21,
   "metadata": {},
   "outputs": [
    {
     "data": {
      "text/plain": [
       "[1.11, 1.65, 0.89, 1.81, 0.39, 0.41, 0.35]"
      ]
     },
     "execution_count": 21,
     "metadata": {},
     "output_type": "execute_result"
    }
   ],
   "source": [
    "rmse"
   ]
  },
  {
   "cell_type": "code",
   "execution_count": 22,
   "metadata": {},
   "outputs": [
    {
     "data": {
      "text/plain": [
       "[0.97, 0.94, 0.98, 0.93, 1.0, 1.0, 1.0]"
      ]
     },
     "execution_count": 22,
     "metadata": {},
     "output_type": "execute_result"
    }
   ],
   "source": [
    "r2"
   ]
  },
  {
   "cell_type": "code",
   "execution_count": 23,
   "metadata": {},
   "outputs": [],
   "source": [
    "import pickle\n",
    "\n",
    "pickle.dump(rfr, open('model_Eugenio_Oscar.pkl', 'wb'))"
   ]
  },
  {
   "cell_type": "code",
   "execution_count": 24,
   "metadata": {},
   "outputs": [
    {
     "data": {
      "text/plain": [
       "[<matplotlib.lines.Line2D at 0x1c98954c2b0>]"
      ]
     },
     "execution_count": 24,
     "metadata": {},
     "output_type": "execute_result"
    },
    {
     "data": {
      "image/png": "[encoded data removed]",
      "text/plain": [
       "<Figure size 432x288 with 1 Axes>"
      ]
     },
     "metadata": {
      "needs_background": "light"
     },
     "output_type": "display_data"
    }
   ],
   "source": [
    "plt.plot(y_pred_rfr, y_test, '.')"
   ]
  },
  {
   "cell_type": "code",
   "execution_count": 26,
   "metadata": {},
   "outputs": [
    {
     "data": {
      "text/plain": [
       "[<matplotlib.lines.Line2D at 0x1c989a88160>]"
      ]
     },
     "execution_count": 26,
     "metadata": {},
     "output_type": "execute_result"
    },
    {
     "data": {
      "image/png": "[encoded data removed]",
      "text/plain": [
       "<Figure size 432x288 with 1 Axes>"
      ]
     },
     "metadata": {
      "needs_background": "light"
     },
     "output_type": "display_data"
    }
   ],
   "source": [
    "plt.plot(y_pred_lgbmr, y_test, '.')"
   ]
  },
  {
   "cell_type": "code",
   "execution_count": null,
   "metadata": {},
   "outputs": [],
   "source": []
  }
 ],
 "metadata": {
  "kernelspec": {
   "display_name": "Python 3 (ipykernel)",
   "language": "python",
   "name": "python3"
  },
  "language_info": {
   "codemirror_mode": {
    "name": "ipython",
    "version": 3
   },
   "file_extension": ".py",
   "mimetype": "text/x-python",
   "name": "python",
   "nbconvert_exporter": "python",
   "pygments_lexer": "ipython3",
   "version": "3.9.12"
  }
 },
 "nbformat": 4,
 "nbformat_minor": 4
}
