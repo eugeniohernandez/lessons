{
 "cells": [
  {
   "cell_type": "markdown",
   "metadata": {},
   "source": [
    "Your FIFA project goes here:"
   ]
  },
  {
   "cell_type": "code",
   "execution_count": 1,
   "metadata": {},
   "outputs": [],
   "source": [
    "import pandas as pd\n",
    "import numpy as np"
   ]
  },
  {
   "cell_type": "code",
   "execution_count": 2,
   "metadata": {},
   "outputs": [
    {
     "data": {
      "text/plain": [
       "Index(['Unnamed: 0', 'ID', 'Name', 'Age', 'Nationality', 'Club', 'BP',\n",
       "       'Position', 'Team & Contract', 'Height',\n",
       "       ...\n",
       "       'CDM', 'RDM', 'RWB', 'LB', 'LCB', 'CB', 'RCB', 'RB', 'GK', 'OVA'],\n",
       "      dtype='object', length=102)"
      ]
     },
     "execution_count": 2,
     "metadata": {},
     "output_type": "execute_result"
    }
   ],
   "source": [
    "data = pd.read_csv(\"./file_for_project/fifa21_training.csv\")\n",
    "data.columns"
   ]
  },
  {
   "cell_type": "code",
   "execution_count": 3,
   "metadata": {},
   "outputs": [],
   "source": [
    "data.columns = [e.lower().replace(' ' , '_') for e in data.columns] #unificamos formato nombres\n",
    "data = data.dropna()\n",
    "\n",
    "columns = data.columns.tolist()\n",
    "\n",
    "data = data.drop(columns=[\"unnamed:_0\",\"id\",'name','nationality','team_&_contract'\n",
    "        ,'club','joined','loan_date_end','contract'])\n",
    "\n",
    "# A position la convertiremos en número de posiciones en las que puede jugar\n",
    "# Qué es growth?\n",
    "# Club, convertir a si es de gran liga o otro\n",
    "# Wage, release_clause --> Quitar el símbolo de moneda, y cambiar la K y la M por los correspondientes 0.\n",
    "# volleys, curve, agility, jumping, balance, interceptions, positioning, vision, composure, sliding_tackle  --> Son con decimales. Lo podemos dejar?\n",
    "# w/f, sm --> Quitar el espacio y la estrella. Quedarnos sólo el indice [0]\n",
    "# a/w, d/w, ir --> convertir High/Medium/Low en 1,2,3\n",
    "# hits --> Quitar las comillas de string y K y M --> Se ha metido en la función dinero\n",
    "# a partir de ls y hasta gk, mirar qué hacer con los símbolos +"
   ]
  },
  {
   "cell_type": "code",
   "execution_count": 4,
   "metadata": {},
   "outputs": [],
   "source": [
    "#Funciones\n",
    "\n",
    "def dinero(x):\n",
    "    if '.' in x and 'K' in x:\n",
    "        x=x.replace('K','00')\n",
    "        x=x.replace('.','')\n",
    "    else:\n",
    "        x=x.replace('K','000')\n",
    "    \n",
    "    if '.' in x and 'M' in x:\n",
    "        x=x.replace('M','00000')\n",
    "        x=x.replace('.','')\n",
    "    else:\n",
    "        x=x.replace('M','000000')\n",
    "        \n",
    "    x=x.replace('€','')\n",
    "    x=x.replace('$','')\n",
    "    x=int(x)\n",
    "    return x\n",
    "\n",
    "def estrella(x):\n",
    "    return int(x[0])\n",
    "\n",
    "def himelo(x):\n",
    "    if x == 'High':\n",
    "        return 3\n",
    "    if x == 'Medium':\n",
    "        return 2\n",
    "    if x == 'Low':\n",
    "        return 1\n",
    "    \n",
    "def peso(x):\n",
    "    return int(x.split('l')[0])\n",
    "\n",
    "def altura(x):\n",
    "    metros = int(x[0])*0.3048*100\n",
    "    centimetros = int(x[-2])*2.54\n",
    "    return metros+centimetros"
   ]
  },
  {
   "cell_type": "code",
   "execution_count": 5,
   "metadata": {},
   "outputs": [],
   "source": [
    "# Conversión de columnas relativamente directa\n",
    "\n",
    "data['position'] = [a.count(' ')+1 for a in data['position']]\n",
    "data['wage'] = [dinero(wage) for wage in data['wage']]\n",
    "data['release_clause'] = [dinero(rc) for rc in data['release_clause']]\n",
    "data['value'] = [dinero(value) for value in data['value']]\n",
    "data['w/f'] = [estrella(x) for x in data['w/f']]\n",
    "data['sm'] = [estrella(x) for x in data['sm']]\n",
    "data['a/w'] = [himelo(x) for x in data['a/w']]\n",
    "data['d/w'] = [himelo(x) for x in data['d/w']]\n",
    "data['ir'] = [himelo(x) for x in data['ir']]\n",
    "data['hits'] = [dinero(x) for x in data['hits']]\n",
    "data['weight'] = [peso(w) for w in data['weight']]\n",
    "data['height'] = [altura(h) for h in data['height']]\n"
   ]
  },
  {
   "cell_type": "code",
   "execution_count": 6,
   "metadata": {},
   "outputs": [],
   "source": [
    "# Conversión en masa de algunas columnas\n",
    "\n",
    "col_con_mas = ['ls','st', 'rs', 'lw', 'lf', 'cf', 'rf',\n",
    "       'rw', 'lam', 'cam', 'ram', 'lm', 'lcm', 'cm', 'rcm', 'rm', 'lwb', 'ldm',\n",
    "       'cdm', 'rdm', 'rwb', 'lb', 'lcb', 'cb', 'rcb', 'rb', 'gk']\n",
    "\n",
    "for i in col_con_mas:\n",
    "    data[i+'+'] = [int(x.split('+')[1]) for x in data[i]]\n",
    "    data[i] = [int(x.split('+')[0]) for x in data[i]]"
   ]
  },
  {
   "cell_type": "code",
   "execution_count": 7,
   "metadata": {},
   "outputs": [],
   "source": [
    "# Estudio de la información\n",
    "\n",
    "import seaborn as sns\n",
    "import matplotlib.pyplot as plt\n",
    "%matplotlib inline\n",
    "\n",
    "#Matriz de correlaciones\n",
    "\n",
    "#corr = data.corr()\n",
    "#mask = np.triu(np.ones_like(corr, dtype=np.bool))\n",
    "#f, ax = plt.subplots(figsize=(11, 9))\n",
    "#cmap = sns.diverging_palette(220, 10, as_cmap=True)\n",
    "\n",
    "#sns.heatmap(corr, mask=mask, cmap=cmap, vmax=.3, center=0, square=True, linewidths=.5, cbar_kws={'shrink':.5});\n",
    "\n",
    "# Salvo para las variables de portero, no se aprecian correlaciones significativas"
   ]
  },
  {
   "cell_type": "code",
   "execution_count": 8,
   "metadata": {},
   "outputs": [],
   "source": [
    "# Estandarizar columnas numéricas (Todas entre -1 y 1) --> Quizá es mejor quitando antes outliers\n",
    "\n",
    "from sklearn.preprocessing import StandardScaler\n",
    "\n",
    "num_cols = [col for col in data.columns if (data[col].dtype!='object')]\n",
    "\n",
    "for col in num_cols[:-1]:\n",
    "    data[col] = StandardScaler().fit_transform(data[col].values.reshape(-1,1))"
   ]
  },
  {
   "cell_type": "code",
   "execution_count": null,
   "metadata": {},
   "outputs": [],
   "source": []
  },
  {
   "cell_type": "code",
   "execution_count": null,
   "metadata": {},
   "outputs": [],
   "source": []
  }
 ],
 "metadata": {
  "kernelspec": {
   "display_name": "Python 3 (ipykernel)",
   "language": "python",
   "name": "python3"
  },
  "language_info": {
   "codemirror_mode": {
    "name": "ipython",
    "version": 3
   },
   "file_extension": ".py",
   "mimetype": "text/x-python",
   "name": "python",
   "nbconvert_exporter": "python",
   "pygments_lexer": "ipython3",
   "version": "3.9.12"
  }
 },
 "nbformat": 4,
 "nbformat_minor": 4
}
