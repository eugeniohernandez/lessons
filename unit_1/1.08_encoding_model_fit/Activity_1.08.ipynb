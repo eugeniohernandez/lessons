{
 "cells": [
  {
   "cell_type": "code",
   "execution_count": 3,
   "id": "43648bf0-8908-4a81-94e9-3104cccbf4ba",
   "metadata": {},
   "outputs": [],
   "source": [
    "import pandas as pd\n",
    "import numpy as np\n",
    "from sklearn.preprocessing import OneHotEncoder #IMPORTANTE ENTENDER ESTO - VA BIEN PARA COLUMNAS CATEGÓRICAS\n",
    "from sklearn.model_selection import train_test_split\n",
    "from sklearn import linear_model \n",
    "from sklearn.metrics import r2_score"
   ]
  },
  {
   "cell_type": "markdown",
   "id": "ca05bfa5-77d0-4278-95e9-8fb48e1c4c94",
   "metadata": {},
   "source": [
    "# 1.08 Activity 1\n",
    "\n",
    "- Do you think it is important to reduce the number of categories in a column if you can? How might it impact your model?\n",
    "- Discussion on reducing the number of categories in a column."
   ]
  },
  {
   "cell_type": "markdown",
   "id": "b4d25e9d-ce24-45e9-8820-b43868c478af",
   "metadata": {},
   "source": [
    "Keeping One Hot encoding as the reference, having multiple categories in a single column can add a large number of additional columns in the data set. Given that there might be many such categorical columns, this might make the data set sparse, by adding a large number of columns with binary values."
   ]
  },
  {
   "cell_type": "markdown",
   "id": "801d4443-09b2-46f4-b57c-7feef6f7920f",
   "metadata": {},
   "source": [
    "# 1.08 Activity 2\n",
    "\n",
    "Refer to the file `files_for_activities/regression_data___.csv` for this exercise.\n",
    "\n",
    "1. Import the data from `regression_data___.csv`.\n",
    "2. Select categorical columns.\n",
    "3. Difference between One Hot Encoding, Label Encoding, and Ordinal Encoding."
   ]
  },
  {
   "cell_type": "code",
   "execution_count": 5,
   "id": "5a36cf35-eaf3-4627-b066-1179d2cc167c",
   "metadata": {},
   "outputs": [],
   "source": [
    "#1\n",
    "\n",
    "df = pd.read_csv('./files_for_activities/csv_files/regression_data___.csv')"
   ]
  },
  {
   "cell_type": "code",
   "execution_count": 7,
   "id": "8f87626a-1dd0-49c9-ac8b-5e3844ac7f16",
   "metadata": {},
   "outputs": [],
   "source": [
    "#2\n",
    "\n",
    "cat_data = df.select_dtypes(include = object) # del dataframe, que nos incluya las columnas tipo object"
   ]
  },
  {
   "cell_type": "code",
   "execution_count": 9,
   "id": "0f4d8da9-9fd0-43ce-b3d8-8c57bfc6ced0",
   "metadata": {},
   "outputs": [
    {
     "data": {
      "text/html": [
       "<div>\n",
       "<style scoped>\n",
       "    .dataframe tbody tr th:only-of-type {\n",
       "        vertical-align: middle;\n",
       "    }\n",
       "\n",
       "    .dataframe tbody tr th {\n",
       "        vertical-align: top;\n",
       "    }\n",
       "\n",
       "    .dataframe thead th {\n",
       "        text-align: right;\n",
       "    }\n",
       "</style>\n",
       "<table border=\"1\" class=\"dataframe\">\n",
       "  <thead>\n",
       "    <tr style=\"text-align: right;\">\n",
       "      <th></th>\n",
       "      <th>gender_Male</th>\n",
       "      <th>gender_U</th>\n",
       "    </tr>\n",
       "  </thead>\n",
       "  <tbody>\n",
       "    <tr>\n",
       "      <th>0</th>\n",
       "      <td>1</td>\n",
       "      <td>0</td>\n",
       "    </tr>\n",
       "    <tr>\n",
       "      <th>1</th>\n",
       "      <td>1</td>\n",
       "      <td>0</td>\n",
       "    </tr>\n",
       "    <tr>\n",
       "      <th>2</th>\n",
       "      <td>0</td>\n",
       "      <td>0</td>\n",
       "    </tr>\n",
       "    <tr>\n",
       "      <th>3</th>\n",
       "      <td>1</td>\n",
       "      <td>0</td>\n",
       "    </tr>\n",
       "    <tr>\n",
       "      <th>4</th>\n",
       "      <td>0</td>\n",
       "      <td>0</td>\n",
       "    </tr>\n",
       "  </tbody>\n",
       "</table>\n",
       "</div>"
      ],
      "text/plain": [
       "   gender_Male  gender_U\n",
       "0            1         0\n",
       "1            1         0\n",
       "2            0         0\n",
       "3            1         0\n",
       "4            0         0"
      ]
     },
     "execution_count": 9,
     "metadata": {},
     "output_type": "execute_result"
    }
   ],
   "source": [
    "#3\n",
    "\n",
    "# With One hot EncodingWith\n",
    "from sklearn.preprocessing import OneHotEncoder #Lo que se usa para esto\n",
    "\n",
    "encoder=OneHotEncoder(handle_unknown='error', drop='first').fit(cat_data)\n",
    "encoded=encoder.transform(cat_data).toarray()\n",
    "\n",
    "# with pandas\n",
    "data_one_hot=pd.get_dummies(cat_data, drop_first=True)\n",
    "data_one_hot.head()"
   ]
  },
  {
   "cell_type": "markdown",
   "id": "a5147fb7-0938-4f3d-80c0-26eb50121830",
   "metadata": {},
   "source": [
    "# 1.08 Activity 3\n",
    "\n",
    "- Check the difference between MSE and RMSE. Which one is bigger? Does it matter?\n",
    "- There is another measure of accuracy called \"adjusted R-square\". How is this different from R-square?\n",
    "- Read this [article](https://blog.minitab.com/blog/adventures-in-statistics-2/multiple-regession-analysis-use-adjusted-r-squared-and-predicted-r-squared-to-include-the-correct-number-of-variables) and let's discuss it in class."
   ]
  },
  {
   "cell_type": "markdown",
   "id": "838658f1-7f35-4fd3-ad82-310631e304f6",
   "metadata": {},
   "source": [
    "#1\n",
    "MSE is bigger than RMSE, but they have the same information about the error. RMSE has the same magnitude order as the data.\n",
    "\n",
    "#2 \n",
    "Adjusted R2 is a corrected goodness-of-fit (model accuracy) measure for linear models. It identifies the percentage of variance in the target field that is explained by the input or inputs. R2 tends to optimistically estimate the fit of the linear regression."
   ]
  },
  {
   "cell_type": "markdown",
   "id": "7b28faa0-8799-4856-ade8-6d466597a616",
   "metadata": {},
   "source": [
    "# 1.08 Activity 4\n",
    "\n",
    "1. List down some examples/problems that can be solved using regression models\n",
    "2. List down some examples/problems that can be solved using classification models\n",
    "3. List down some examples/problems that can be solved using clustering models\n",
    "\n",
    "- There is a file `files_for_activities/sites_with_free_data_sets.pdf`. You can use that to find some examples on different models."
   ]
  },
  {
   "cell_type": "code",
   "execution_count": null,
   "id": "9a4860b6-6cba-4ab4-baef-e8084d9c6b0c",
   "metadata": {},
   "outputs": [],
   "source": []
  }
 ],
 "metadata": {
  "kernelspec": {
   "display_name": "Python 3 (ipykernel)",
   "language": "python",
   "name": "python3"
  },
  "language_info": {
   "codemirror_mode": {
    "name": "ipython",
    "version": 3
   },
   "file_extension": ".py",
   "mimetype": "text/x-python",
   "name": "python",
   "nbconvert_exporter": "python",
   "pygments_lexer": "ipython3",
   "version": "3.9.12"
  }
 },
 "nbformat": 4,
 "nbformat_minor": 5
}
