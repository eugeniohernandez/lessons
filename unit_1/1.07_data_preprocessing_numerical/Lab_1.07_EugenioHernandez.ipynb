{
 "cells": [
  {
   "cell_type": "markdown",
   "id": "d5bbd76b-c852-47e4-a644-507a9cba1971",
   "metadata": {},
   "source": [
    "# Lab | Customer Analysis Round 5\n",
    "\n",
    "For this lab, we still keep using the `marketing_customer_analysis.csv` file that you can find in the `files_for_lab` folder.\n",
    "\n",
    "### Get the data\n",
    "\n",
    "We are using the `marketing_customer_analysis.csv` file.\n",
    "\n",
    "### Dealing with the data\n",
    "\n",
    "Already done in the round 2.\n",
    "\n",
    "### Explore the data\n",
    "\n",
    "Done in the round 3.\n",
    "\n",
    "### Processing Data\n",
    "\n",
    "(_Further processing..._)\n",
    "\n",
    "- X-y split.\n",
    "- Normalize (numerical)."
   ]
  },
  {
   "cell_type": "code",
   "execution_count": null,
   "id": "7d9dcf58-201b-4ddf-aa10-8b9f93f1143e",
   "metadata": {},
   "outputs": [],
   "source": [
    "#Normalize Data:\n",
    "\n",
    "for c in data[cols]:   # normalize all less the target column (cols should not contain de target)\n",
    "    data[c]=StandardScaler().fit_transform(data[c].values.reshape(-1,1))"
   ]
  },
  {
   "cell_type": "code",
   "execution_count": null,
   "id": "cb3332d2-b075-4185-84a4-d27d2c8f6f71",
   "metadata": {},
   "outputs": [],
   "source": [
    "# X-y Split:\n",
    "\n",
    "X=data.drop(columns=['target'])\n",
    "y=data['target']\n",
    "\n",
    "# checking shape\n",
    "print(X.shape)\n",
    "print(y.shape)\n",
    "\n",
    "# train_test_split\n",
    "from sklearn.model_selection import train_test_split as tts\n",
    "\n",
    "# train-test-split (4 sets)\n",
    "\n",
    "X_train, X_test, y_train, y_test = tts(X, y, test_size=0.2, random_state=42)  # random state fixed sample"
   ]
  }
 ],
 "metadata": {
  "kernelspec": {
   "display_name": "Python 3 (ipykernel)",
   "language": "python",
   "name": "python3"
  },
  "language_info": {
   "codemirror_mode": {
    "name": "ipython",
    "version": 3
   },
   "file_extension": ".py",
   "mimetype": "text/x-python",
   "name": "python",
   "nbconvert_exporter": "python",
   "pygments_lexer": "ipython3",
   "version": "3.9.12"
  }
 },
 "nbformat": 4,
 "nbformat_minor": 5
}
