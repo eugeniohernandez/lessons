{
 "cells": [
  {
   "cell_type": "markdown",
   "id": "6d3da988-21ee-4c6c-8414-d0af01a93be5",
   "metadata": {},
   "source": [
    "# Lab | Customer Analysis Final Round\n",
    "\n",
    "For this lab, we still keep using the `marketing_customer_analysis.csv` file that you can find in the `files_for_lab_final` folder.\n",
    "\n",
    "It's time to put it all together. Remember the previous rounds and follow the steps as shown in previous lectures.\n",
    "\n",
    "<font color='magenta'>\n",
    "Please comment before each cell of code using a markdown cell. You should clearly state with your own words what the portion of code in the cell bellow does or add other insightful comments on that operation. Use the html tags in this cell to add your comments in a striking color for an easy review.\n",
    "</font>\n",
    "\n",
    "### 01 - Problem (case study)\n",
    "\n",
    "- Data Description.\n",
    "- Goal."
   ]
  },
  {
   "cell_type": "markdown",
   "id": "9327225e-6949-4254-828f-520cb31ec8d5",
   "metadata": {},
   "source": [
    "**Data Description:**\n",
    "\n",
    "- **customer:** Customer ID\n",
    "- **state:** US State\n",
    "- **customer_lifetime_value:** CLV is the client economic value for a company during all their relationship\n",
    "- **response:** Response to marketing calls (customer engagement)\n",
    "- **coverage:** Customer coverage type\n",
    "- **education:** Customer education level\n",
    "- **effective_to_date:** Effective to date\n",
    "- **employmentstatus:** Customer employment status\n",
    "- **gender:** Customer gender\n",
    "- **income:** Customer income\n",
    "- **location_code:** Customer living zone\n",
    "- **marital_status:** Customer marital status\n",
    "- **monthly_premium_auto:** Monthly premium\n",
    "- **months_since_last_claim:** Last customer claim\n",
    "- **months_since_policy_inception:** Policy Inception\n",
    "- **number_of_open_complaints:** Open claims\n",
    "- **number_of_policies:** Number policies\n",
    "- **policy_type:** Policy type\n",
    "- **policy:** Policy\n",
    "- **renew_offer_type:** Renew\n",
    "- **sales_channel:** Sales channel (customer-company first contact)\n",
    "- **total_claim_amount:** Claims amount\n",
    "- **vehicle_class:** Vehicle class\n",
    "- **vehicle_size:** Vehicle size\n",
    "- **vehicle_type:** Vehicle type\n",
    "\n",
    "**Goal**: <font color='magenta'>Predict the amount that will be claimed by a client\n",
    "</font>"
   ]
  },
  {
   "cell_type": "markdown",
   "id": "3a7c6b01-90da-441e-9a91-a51990169ff4",
   "metadata": {},
   "source": [
    "### 02 - Getting Data\n",
    "\n",
    "- Read the `.csv` file."
   ]
  },
  {
   "cell_type": "code",
   "execution_count": 1,
   "id": "e713016e-ae85-4c5c-96e0-7bbe5790cd1e",
   "metadata": {},
   "outputs": [],
   "source": [
    "import pandas as pd\n",
    "pd.set_option(\"display.max_columns\", None)\n",
    "\n",
    "data = pd.read_csv(\"./files_for_lab_final/csv_files/marketing_customer_analysis.csv\")"
   ]
  },
  {
   "cell_type": "markdown",
   "id": "05f9e799-90b1-4856-a035-86ab80023ff8",
   "metadata": {},
   "source": [
    "### 03 - Cleaning/Wrangling/EDA\n",
    "\n",
    "- Change headers names."
   ]
  },
  {
   "cell_type": "code",
   "execution_count": 2,
   "id": "be7d3edb-79b6-4f8b-afb5-5acd56ee42bf",
   "metadata": {},
   "outputs": [],
   "source": [
    "data.columns = [e.lower().replace(' ' , '_') for e in data.columns]"
   ]
  },
  {
   "cell_type": "markdown",
   "id": "490d78b8-5204-4ae1-af58-c5f1a4a7aa0c",
   "metadata": {},
   "source": [
    "<font color='magenta'>\n",
    "Convertimos, mediante una expresión de list comprehensión, las mayúsculas a minúsculas y substituimos los espacios por guiones bajos, unificando así el formato de las cabeceras.\n",
    "    \n",
    "Forma Alternativa: Sin usar list comprehension</font>"
   ]
  },
  {
   "cell_type": "markdown",
   "id": "3352fe15-4bfc-4aef-a602-354326edc4c3",
   "metadata": {},
   "source": [
    "- Deal with NaN values."
   ]
  },
  {
   "cell_type": "code",
   "execution_count": 3,
   "id": "83441f21-9032-4344-92fc-e4c0af4fdc60",
   "metadata": {},
   "outputs": [],
   "source": [
    "data=data.dropna()\n",
    "data = data.drop(columns=[\"customer\"]) #No nos interesa el ID interno que usa la empresa"
   ]
  },
  {
   "cell_type": "markdown",
   "id": "c3d0868f-cba9-4fda-97e1-570ba84aa5af",
   "metadata": {},
   "source": [
    "<font color='magenta'>\n",
    "Se puede revisar si hay NaN's con los métodos .info o .isna().sum(), pero no es necesario. Sólo con el método .dropna() ya nos aseguramos que los eliminamos, los hubiera o no en un inicio.\n",
    "</font>"
   ]
  },
  {
   "cell_type": "markdown",
   "id": "ec5bc2ae-f046-48d6-9330-2e62ff06984a",
   "metadata": {},
   "source": [
    "- Datetime Features.\n",
    "\n",
    "**Effective To Date**"
   ]
  },
  {
   "cell_type": "code",
   "execution_count": 4,
   "id": "69a6c5c4-526a-4309-bf52-6be890acf931",
   "metadata": {},
   "outputs": [
    {
     "name": "stdout",
     "output_type": "stream",
     "text": [
      "Original dtype: object\n",
      "\n",
      "Meantime dtype: datetime64[ns]\n",
      "--\n",
      "Min date: 2011-01-01 00:00:00\n",
      "Max date: 2011-02-28 00:00:00\n",
      "--\n",
      "New dtype: int64\n"
     ]
    }
   ],
   "source": [
    "print(f\"Original dtype: {data['effective_to_date'].dtype}\\n\")   # object\n",
    "data['effective_to_date']=pd.to_datetime(data['effective_to_date'])   # datetime\n",
    "print(f\"Meantime dtype: {data['effective_to_date'].dtype}\")\n",
    "\n",
    "print('--')\n",
    "print(f\"Min date: {data['effective_to_date'].min()}\")         # from January 1st..\n",
    "print(f\"Max date: {data['effective_to_date'].max()}\")         # to February 28th\n",
    "print('--')\n",
    "\n",
    "data['effective_to_date']=data['effective_to_date'].apply(lambda x: x.toordinal())   # you can change the type to ordinal.\n",
    "\n",
    "print(f\"New dtype: {data['effective_to_date'].dtype}\")"
   ]
  },
  {
   "cell_type": "markdown",
   "id": "aa47c95e-10b5-4133-bcfc-0b5e1e3656c3",
   "metadata": {},
   "source": [
    "- Categorical Features."
   ]
  },
  {
   "cell_type": "code",
   "execution_count": 5,
   "id": "0358556e-c75f-4dd3-ae33-4c4c098fcba1",
   "metadata": {},
   "outputs": [
    {
     "name": "stdout",
     "output_type": "stream",
     "text": [
      "Name: state\n",
      "Type: object\n",
      "Unique values: 5\n",
      "California    34.486534\n",
      "Oregon        28.476024\n",
      "Arizona       18.644624\n",
      "Nevada         9.656229\n",
      "Washington     8.736589\n",
      "Name: state, dtype: float64\n",
      "Name: response\n",
      "Type: object\n",
      "Unique values: 2\n",
      "No     85.679877\n",
      "Yes    14.320123\n",
      "Name: response, dtype: float64\n",
      "Name: coverage\n",
      "Type: object\n",
      "Unique values: 3\n",
      "Basic       60.959054\n",
      "Extended    30.019707\n",
      "Premium      9.021239\n",
      "Name: coverage, dtype: float64\n",
      "Name: education\n",
      "Type: object\n",
      "Unique values: 5\n",
      "Bachelor                30.085395\n",
      "College                 29.351872\n",
      "High School or Below    28.705934\n",
      "Master                   8.112547\n",
      "Doctor                   3.744252\n",
      "Name: education, dtype: float64\n",
      "Name: employmentstatus\n",
      "Type: object\n",
      "Unique values: 5\n",
      "Employed         62.382308\n",
      "Unemployed       25.366762\n",
      "Medical Leave     4.729582\n",
      "Disabled          4.433983\n",
      "Retired           3.087366\n",
      "Name: employmentstatus, dtype: float64\n",
      "Name: gender\n",
      "Type: object\n",
      "Unique values: 2\n",
      "F    50.996278\n",
      "M    49.003722\n",
      "Name: gender, dtype: float64\n",
      "Name: location_code\n",
      "Type: object\n",
      "Unique values: 3\n",
      "Suburban    63.269104\n",
      "Rural       19.410992\n",
      "Urban       17.319904\n",
      "Name: location_code, dtype: float64\n",
      "Name: marital_status\n",
      "Type: object\n",
      "Unique values: 3\n",
      "Married     58.003065\n",
      "Single      27.008977\n",
      "Divorced    14.987957\n",
      "Name: marital_status, dtype: float64\n",
      "Name: policy_type\n",
      "Type: object\n",
      "Unique values: 3\n",
      "Personal Auto     74.315743\n",
      "Corporate Auto    21.545873\n",
      "Special Auto       4.138384\n",
      "Name: policy_type, dtype: float64\n",
      "Name: policy\n",
      "Type: object\n",
      "Unique values: 9\n",
      "Personal L3     37.508211\n",
      "Personal L2     23.231881\n",
      "Personal L1     13.575651\n",
      "Corporate L3    11.101379\n",
      "Corporate L2     6.514123\n",
      "Corporate L1     3.930370\n",
      "Special L2       1.795489\n",
      "Special L3       1.620320\n",
      "Special L1       0.722575\n",
      "Name: policy, dtype: float64\n",
      "Name: renew_offer_type\n",
      "Type: object\n",
      "Unique values: 4\n",
      "Offer1    41.077294\n",
      "Offer2    32.034158\n",
      "Offer3    15.677688\n",
      "Offer4    11.210861\n",
      "Name: renew_offer_type, dtype: float64\n",
      "Name: sales_channel\n",
      "Type: object\n",
      "Unique values: 4\n",
      "Agent          38.066564\n",
      "Branch         28.103788\n",
      "Call Center    19.323407\n",
      "Web            14.506240\n",
      "Name: sales_channel, dtype: float64\n",
      "Name: vehicle_class\n",
      "Type: object\n",
      "Unique values: 6\n",
      "Four-Door Car    50.591198\n",
      "Two-Door Car     20.648128\n",
      "SUV              19.662798\n",
      "Sports Car        5.298883\n",
      "Luxury SUV        2.014451\n",
      "Luxury Car        1.784541\n",
      "Name: vehicle_class, dtype: float64\n",
      "Name: vehicle_size\n",
      "Type: object\n",
      "Unique values: 3\n",
      "Medsize    70.330633\n",
      "Small      19.312459\n",
      "Large      10.356908\n",
      "Name: vehicle_size, dtype: float64\n"
     ]
    }
   ],
   "source": [
    "# Lista de columnas categóricas\n",
    "\n",
    "cat_cols = [col for col in data.columns if (data[col].dtype==object)]\n",
    "\n",
    "#Información de dichas columnas\n",
    "\n",
    "for c in cat_cols:\n",
    "    print(f'Name: {data[c].name}') # Nombre\n",
    "    print(f'Type: {data[c].dtype}') # Tipo\n",
    "    print(f'Unique values: {len(data[c].unique())}') # Valores Únicos\n",
    "    print(((data[c].value_counts() / sum(data[c].value_counts()))*100)) #Porcentaje de veces que aparece cada una respecto al total de la columna\n",
    "    "
   ]
  },
  {
   "cell_type": "markdown",
   "id": "de9342ed-004a-4fd7-8ef9-52c3fc18a1c9",
   "metadata": {},
   "source": [
    "<font color='magenta'>\n",
    "Otra vez con list comprehension, nos quedamos con las columnas categóricas en base a si son tipo object y luego mostramos diversa información sobre éstas.\n",
    "</font>"
   ]
  },
  {
   "cell_type": "markdown",
   "id": "f6d22347-be24-48fb-a0de-18a29b45d586",
   "metadata": {},
   "source": [
    "- Numerical Features."
   ]
  },
  {
   "cell_type": "code",
   "execution_count": 6,
   "id": "40875fb4-7c55-4501-85c0-a989c0fa9c5a",
   "metadata": {},
   "outputs": [],
   "source": [
    "num_cols = [c for c in data.columns if (data[c].dtype!='object') and (c!='Effective To Date')]"
   ]
  },
  {
   "cell_type": "markdown",
   "id": "c3582d6d-01aa-459c-9289-06f2c0d14cad",
   "metadata": {},
   "source": [
    "<font color='magenta'>\n",
    "Nos quedamos con las columnas que no son tipo object ni tipo fecha\n",
    "</font>"
   ]
  },
  {
   "cell_type": "markdown",
   "id": "5e0dc786-9920-4c99-a6e7-4c1e8682c98f",
   "metadata": {},
   "source": [
    "- Exploration.\n",
    "\n",
    "**Bar plot for each categorical variable.**"
   ]
  },
  {
   "cell_type": "code",
   "execution_count": 7,
   "id": "c5205de0-73c9-4884-845f-ab74a95e31e2",
   "metadata": {},
   "outputs": [
    {
     "data": {
      "image/png": "[encoded data removed]",
      "text/plain": [
       "<Figure size 720x360 with 1 Axes>"
      ]
     },
     "metadata": {
      "needs_background": "light"
     },
     "output_type": "display_data"
    },
    {
     "data": {
      "image/png": "[encoded data removed]",
      "text/plain": [
       "<Figure size 720x360 with 1 Axes>"
      ]
     },
     "metadata": {
      "needs_background": "light"
     },
     "output_type": "display_data"
    },
    {
     "data": {
      "image/png": "[encoded data removed]",
      "text/plain": [
       "<Figure size 720x360 with 1 Axes>"
      ]
     },
     "metadata": {
      "needs_background": "light"
     },
     "output_type": "display_data"
    },
    {
     "data": {
      "image/png": "[encoded data removed]",
      "text/plain": [
       "<Figure size 720x360 with 1 Axes>"
      ]
     },
     "metadata": {
      "needs_background": "light"
     },
     "output_type": "display_data"
    },
    {
     "data": {
      "image/png": "[encoded data removed]",
      "text/plain": [
       "<Figure size 720x360 with 1 Axes>"
      ]
     },
     "metadata": {
      "needs_background": "light"
     },
     "output_type": "display_data"
    },
    {
     "data": {
      "image/png": "[encoded data removed]",
      "text/plain": [
       "<Figure size 720x360 with 1 Axes>"
      ]
     },
     "metadata": {
      "needs_background": "light"
     },
     "output_type": "display_data"
    },
    {
     "data": {
      "image/png": "[encoded data removed]",
      "text/plain": [
       "<Figure size 720x360 with 1 Axes>"
      ]
     },
     "metadata": {
      "needs_background": "light"
     },
     "output_type": "display_data"
    },
    {
     "data": {
      "image/png": "[encoded data removed]",
      "text/plain": [
       "<Figure size 720x360 with 1 Axes>"
      ]
     },
     "metadata": {
      "needs_background": "light"
     },
     "output_type": "display_data"
    },
    {
     "data": {
      "image/png": "[encoded data removed]",
      "text/plain": [
       "<Figure size 720x360 with 1 Axes>"
      ]
     },
     "metadata": {
      "needs_background": "light"
     },
     "output_type": "display_data"
    },
    {
     "data": {
      "image/png": "[encoded data removed]",
      "text/plain": [
       "<Figure size 720x360 with 1 Axes>"
      ]
     },
     "metadata": {
      "needs_background": "light"
     },
     "output_type": "display_data"
    },
    {
     "data": {
      "image/png": "[encoded data removed]",
      "text/plain": [
       "<Figure size 720x360 with 1 Axes>"
      ]
     },
     "metadata": {
      "needs_background": "light"
     },
     "output_type": "display_data"
    },
    {
     "data": {
      "image/png": "[encoded data removed]",
      "text/plain": [
       "<Figure size 720x360 with 1 Axes>"
      ]
     },
     "metadata": {
      "needs_background": "light"
     },
     "output_type": "display_data"
    },
    {
     "data": {
      "image/png": "[encoded data removed]",
      "text/plain": [
       "<Figure size 720x360 with 1 Axes>"
      ]
     },
     "metadata": {
      "needs_background": "light"
     },
     "output_type": "display_data"
    },
    {
     "data": {
      "image/png": "[encoded data removed]",
      "text/plain": [
       "<Figure size 720x360 with 1 Axes>"
      ]
     },
     "metadata": {
      "needs_background": "light"
     },
     "output_type": "display_data"
    }
   ],
   "source": [
    "import matplotlib.pyplot as plt\n",
    "import seaborn as sns\n",
    "\n",
    "sns.set(style=\"white\")\n",
    "%matplotlib inline\n",
    "\n",
    "for c in cat_cols:\n",
    "    plt.figure(figsize=(10,5))\n",
    "    plt.bar(data[c].unique(), data[c].value_counts())\n",
    "    plt.title(c)\n",
    "    plt.show();"
   ]
  },
  {
   "cell_type": "code",
   "execution_count": 8,
   "id": "01bbe8af-4729-411d-be8f-5c717e88281c",
   "metadata": {},
   "outputs": [
    {
     "name": "stderr",
     "output_type": "stream",
     "text": [
      "C:\\Users\\EB885UN\\AppData\\Local\\Temp\\ipykernel_12000\\129339137.py:7: DeprecationWarning: `np.bool` is a deprecated alias for the builtin `bool`. To silence this warning, use `bool` by itself. Doing this will not modify any behavior and is safe. If you specifically wanted the numpy scalar type, use `np.bool_` here.\n",
      "Deprecated in NumPy 1.20; for more details and guidance: https://numpy.org/devdocs/release/1.20.0-notes.html#deprecations\n",
      "  mask=np.triu(np.ones_like(corr, dtype=np.bool))     # generate a mask for the upper triangle\n"
     ]
    },
    {
     "data": {
      "image/png": "[encoded data removed]",
      "text/plain": [
       "<Figure size 792x648 with 2 Axes>"
      ]
     },
     "metadata": {
      "needs_background": "light"
     },
     "output_type": "display_data"
    }
   ],
   "source": [
    "import numpy as np    # numerical python, algebra library\n",
    "\n",
    "\n",
    "corr=data.corr()      # compute the correlation matrix\n",
    "\n",
    "\n",
    "mask=np.triu(np.ones_like(corr, dtype=np.bool))     # generate a mask for the upper triangle\n",
    "\n",
    "f, ax=plt.subplots(figsize=(11, 9))                 # set up the matplotlib figure\n",
    "\n",
    "cmap=sns.diverging_palette(220, 10, as_cmap=True)   # generate a custom diverging colormap\n",
    "\n",
    "sns.heatmap(corr, mask=mask, cmap=cmap,             # draw the heatmap with the mask and correct aspect ratio\n",
    "            vmax=.3, center=0, square=True,\n",
    "            linewidths=.5, cbar_kws={\"shrink\": .5});"
   ]
  },
  {
   "cell_type": "markdown",
   "id": "456b89ca-9643-4945-a0a5-c8a74ae15c66",
   "metadata": {},
   "source": [
    "<font color='magenta'>\n",
    "Vemos los gráficos de distribución para ver como se comportan las variables (por si hay que aplicar logaritmos o quitar outliers) y una matriz de correlación entre ellas para ver si podemos descartar algunas (las que tengan una correlación superior a un listón)"
   ]
  },
  {
   "cell_type": "code",
   "execution_count": 9,
   "id": "d7c4cc9c-6fcd-4a6d-be02-3b752c03bdec",
   "metadata": {},
   "outputs": [
    {
     "data": {
      "image/png": "[encoded data removed]",
      "text/plain": [
       "<Figure size 720x360 with 1 Axes>"
      ]
     },
     "metadata": {
      "needs_background": "light"
     },
     "output_type": "display_data"
    },
    {
     "data": {
      "image/png": "[encoded data removed]",
      "text/plain": [
       "<Figure size 720x360 with 1 Axes>"
      ]
     },
     "metadata": {
      "needs_background": "light"
     },
     "output_type": "display_data"
    },
    {
     "data": {
      "image/png": "[encoded data removed]",
      "text/plain": [
       "<Figure size 720x360 with 1 Axes>"
      ]
     },
     "metadata": {
      "needs_background": "light"
     },
     "output_type": "display_data"
    },
    {
     "data": {
      "image/png": "[encoded data removed]",
      "text/plain": [
       "<Figure size 720x360 with 1 Axes>"
      ]
     },
     "metadata": {
      "needs_background": "light"
     },
     "output_type": "display_data"
    },
    {
     "data": {
      "image/png": "[encoded data removed]",
      "text/plain": [
       "<Figure size 720x360 with 1 Axes>"
      ]
     },
     "metadata": {
      "needs_background": "light"
     },
     "output_type": "display_data"
    },
    {
     "data": {
      "image/png": "[encoded data removed]",
      "text/plain": [
       "<Figure size 720x360 with 1 Axes>"
      ]
     },
     "metadata": {
      "needs_background": "light"
     },
     "output_type": "display_data"
    },
    {
     "data": {
      "image/png": "[encoded data removed]",
      "text/plain": [
       "<Figure size 720x360 with 1 Axes>"
      ]
     },
     "metadata": {
      "needs_background": "light"
     },
     "output_type": "display_data"
    },
    {
     "data": {
      "image/png": "[encoded data removed]",
      "text/plain": [
       "<Figure size 720x360 with 1 Axes>"
      ]
     },
     "metadata": {
      "needs_background": "light"
     },
     "output_type": "display_data"
    },
    {
     "data": {
      "image/png": "[encoded data removed]",
      "text/plain": [
       "<Figure size 720x360 with 1 Axes>"
      ]
     },
     "metadata": {
      "needs_background": "light"
     },
     "output_type": "display_data"
    }
   ],
   "source": [
    "for c in num_cols:\n",
    "    plt.figure(figsize=(10,5))\n",
    "    plt.boxplot(data[c])\n",
    "    plt.title(c)\n",
    "    plt.show();"
   ]
  },
  {
   "cell_type": "markdown",
   "id": "b465a791-d529-4ca2-8f72-a05a84a70e07",
   "metadata": {},
   "source": [
    "<font color='magenta'>\n",
    "En línea con los gráficos de distribución, con los boxplot podemos sacar las mismas conclusiones pero con las variables numéricas (aplicar logaritmos u otro tipo de conversión y decidir si se quitarán outliers)"
   ]
  },
  {
   "cell_type": "markdown",
   "id": "28e1b967-efa3-4b1e-94cc-4d647a5f9889",
   "metadata": {},
   "source": [
    "### 04 - Processing Data\n",
    "\n",
    "- Dealing with outliers."
   ]
  },
  {
   "cell_type": "code",
   "execution_count": 10,
   "id": "d00581f8-cf26-48f3-b896-8785a7cc491f",
   "metadata": {},
   "outputs": [],
   "source": [
    "# e.g. 3*IQR in a column\n",
    "\n",
    "#q1=np.percentile(data['customer_lifetime_value'], 25)   # percentile 25\n",
    "#q3=np.percentile(data['customer_lifetime_value'], 75)   # percentile 75\n",
    "\n",
    "#iqr=q3-q1  # IQR\n",
    "\n",
    "#upper=q3+3*iqr   # upper boundary\n",
    "#lower=q1-3*iqr   # lower boundary"
   ]
  },
  {
   "cell_type": "markdown",
   "id": "c8a09cd9-91c4-4f42-b76b-d2690d950799",
   "metadata": {},
   "source": [
    "<font color='magenta'>\n",
    "Definimos, para la variable customer lifetime value, los límites a partir de los cuales descartaríamos la informacón. En este caso, el filtrado no está aplicado, pero habría que quedarse lo que queda dentro del rango que limitan los dos límites."
   ]
  },
  {
   "cell_type": "markdown",
   "id": "d7686c63-11ed-4ce2-a86c-61503b390179",
   "metadata": {},
   "source": [
    "<font color='magenta'>\n",
    "La mejora propuesta para el código es no quitar ouliers, sino aplicar una transformación logarítmica de la información"
   ]
  },
  {
   "cell_type": "code",
   "execution_count": 11,
   "id": "d5e4dd97-98c8-4b25-b81b-f3e69dd5c37b",
   "metadata": {},
   "outputs": [
    {
     "data": {
      "text/html": [
       "<div>\n",
       "<style scoped>\n",
       "    .dataframe tbody tr th:only-of-type {\n",
       "        vertical-align: middle;\n",
       "    }\n",
       "\n",
       "    .dataframe tbody tr th {\n",
       "        vertical-align: top;\n",
       "    }\n",
       "\n",
       "    .dataframe thead th {\n",
       "        text-align: right;\n",
       "    }\n",
       "</style>\n",
       "<table border=\"1\" class=\"dataframe\">\n",
       "  <thead>\n",
       "    <tr style=\"text-align: right;\">\n",
       "      <th></th>\n",
       "      <th>state</th>\n",
       "      <th>response</th>\n",
       "      <th>coverage</th>\n",
       "      <th>education</th>\n",
       "      <th>effective_to_date</th>\n",
       "      <th>employmentstatus</th>\n",
       "      <th>gender</th>\n",
       "      <th>income</th>\n",
       "      <th>location_code</th>\n",
       "      <th>marital_status</th>\n",
       "      <th>monthly_premium_auto</th>\n",
       "      <th>months_since_last_claim</th>\n",
       "      <th>months_since_policy_inception</th>\n",
       "      <th>number_of_open_complaints</th>\n",
       "      <th>number_of_policies</th>\n",
       "      <th>policy_type</th>\n",
       "      <th>policy</th>\n",
       "      <th>renew_offer_type</th>\n",
       "      <th>sales_channel</th>\n",
       "      <th>total_claim_amount</th>\n",
       "      <th>vehicle_class</th>\n",
       "      <th>vehicle_size</th>\n",
       "      <th>customer_lifetime_value_log</th>\n",
       "    </tr>\n",
       "  </thead>\n",
       "  <tbody>\n",
       "    <tr>\n",
       "      <th>0</th>\n",
       "      <td>Washington</td>\n",
       "      <td>No</td>\n",
       "      <td>Basic</td>\n",
       "      <td>Bachelor</td>\n",
       "      <td>734192</td>\n",
       "      <td>Employed</td>\n",
       "      <td>F</td>\n",
       "      <td>56274</td>\n",
       "      <td>Suburban</td>\n",
       "      <td>Married</td>\n",
       "      <td>69</td>\n",
       "      <td>32</td>\n",
       "      <td>5</td>\n",
       "      <td>0</td>\n",
       "      <td>1</td>\n",
       "      <td>Corporate Auto</td>\n",
       "      <td>Corporate L3</td>\n",
       "      <td>Offer1</td>\n",
       "      <td>Agent</td>\n",
       "      <td>384.811147</td>\n",
       "      <td>Two-Door Car</td>\n",
       "      <td>Medsize</td>\n",
       "      <td>7.924260</td>\n",
       "    </tr>\n",
       "    <tr>\n",
       "      <th>1</th>\n",
       "      <td>Arizona</td>\n",
       "      <td>No</td>\n",
       "      <td>Extended</td>\n",
       "      <td>Bachelor</td>\n",
       "      <td>734168</td>\n",
       "      <td>Unemployed</td>\n",
       "      <td>F</td>\n",
       "      <td>0</td>\n",
       "      <td>Suburban</td>\n",
       "      <td>Single</td>\n",
       "      <td>94</td>\n",
       "      <td>13</td>\n",
       "      <td>42</td>\n",
       "      <td>0</td>\n",
       "      <td>8</td>\n",
       "      <td>Personal Auto</td>\n",
       "      <td>Personal L3</td>\n",
       "      <td>Offer3</td>\n",
       "      <td>Agent</td>\n",
       "      <td>1131.464935</td>\n",
       "      <td>Four-Door Car</td>\n",
       "      <td>Medsize</td>\n",
       "      <td>8.850738</td>\n",
       "    </tr>\n",
       "    <tr>\n",
       "      <th>2</th>\n",
       "      <td>Nevada</td>\n",
       "      <td>No</td>\n",
       "      <td>Premium</td>\n",
       "      <td>Bachelor</td>\n",
       "      <td>734187</td>\n",
       "      <td>Employed</td>\n",
       "      <td>F</td>\n",
       "      <td>48767</td>\n",
       "      <td>Suburban</td>\n",
       "      <td>Married</td>\n",
       "      <td>108</td>\n",
       "      <td>18</td>\n",
       "      <td>38</td>\n",
       "      <td>0</td>\n",
       "      <td>2</td>\n",
       "      <td>Personal Auto</td>\n",
       "      <td>Personal L3</td>\n",
       "      <td>Offer1</td>\n",
       "      <td>Agent</td>\n",
       "      <td>566.472247</td>\n",
       "      <td>Two-Door Car</td>\n",
       "      <td>Medsize</td>\n",
       "      <td>9.464008</td>\n",
       "    </tr>\n",
       "    <tr>\n",
       "      <th>3</th>\n",
       "      <td>California</td>\n",
       "      <td>No</td>\n",
       "      <td>Basic</td>\n",
       "      <td>Bachelor</td>\n",
       "      <td>734157</td>\n",
       "      <td>Unemployed</td>\n",
       "      <td>M</td>\n",
       "      <td>0</td>\n",
       "      <td>Suburban</td>\n",
       "      <td>Married</td>\n",
       "      <td>106</td>\n",
       "      <td>18</td>\n",
       "      <td>65</td>\n",
       "      <td>0</td>\n",
       "      <td>7</td>\n",
       "      <td>Corporate Auto</td>\n",
       "      <td>Corporate L2</td>\n",
       "      <td>Offer1</td>\n",
       "      <td>Call Center</td>\n",
       "      <td>529.881344</td>\n",
       "      <td>SUV</td>\n",
       "      <td>Medsize</td>\n",
       "      <td>8.941920</td>\n",
       "    </tr>\n",
       "    <tr>\n",
       "      <th>4</th>\n",
       "      <td>Washington</td>\n",
       "      <td>No</td>\n",
       "      <td>Basic</td>\n",
       "      <td>Bachelor</td>\n",
       "      <td>734171</td>\n",
       "      <td>Employed</td>\n",
       "      <td>M</td>\n",
       "      <td>43836</td>\n",
       "      <td>Rural</td>\n",
       "      <td>Single</td>\n",
       "      <td>73</td>\n",
       "      <td>12</td>\n",
       "      <td>44</td>\n",
       "      <td>0</td>\n",
       "      <td>1</td>\n",
       "      <td>Personal Auto</td>\n",
       "      <td>Personal L1</td>\n",
       "      <td>Offer1</td>\n",
       "      <td>Agent</td>\n",
       "      <td>138.130879</td>\n",
       "      <td>Four-Door Car</td>\n",
       "      <td>Medsize</td>\n",
       "      <td>7.942253</td>\n",
       "    </tr>\n",
       "    <tr>\n",
       "      <th>...</th>\n",
       "      <td>...</td>\n",
       "      <td>...</td>\n",
       "      <td>...</td>\n",
       "      <td>...</td>\n",
       "      <td>...</td>\n",
       "      <td>...</td>\n",
       "      <td>...</td>\n",
       "      <td>...</td>\n",
       "      <td>...</td>\n",
       "      <td>...</td>\n",
       "      <td>...</td>\n",
       "      <td>...</td>\n",
       "      <td>...</td>\n",
       "      <td>...</td>\n",
       "      <td>...</td>\n",
       "      <td>...</td>\n",
       "      <td>...</td>\n",
       "      <td>...</td>\n",
       "      <td>...</td>\n",
       "      <td>...</td>\n",
       "      <td>...</td>\n",
       "      <td>...</td>\n",
       "      <td>...</td>\n",
       "    </tr>\n",
       "    <tr>\n",
       "      <th>9129</th>\n",
       "      <td>California</td>\n",
       "      <td>No</td>\n",
       "      <td>Basic</td>\n",
       "      <td>Bachelor</td>\n",
       "      <td>734178</td>\n",
       "      <td>Employed</td>\n",
       "      <td>M</td>\n",
       "      <td>71941</td>\n",
       "      <td>Urban</td>\n",
       "      <td>Married</td>\n",
       "      <td>73</td>\n",
       "      <td>18</td>\n",
       "      <td>89</td>\n",
       "      <td>0</td>\n",
       "      <td>2</td>\n",
       "      <td>Personal Auto</td>\n",
       "      <td>Personal L1</td>\n",
       "      <td>Offer2</td>\n",
       "      <td>Web</td>\n",
       "      <td>198.234764</td>\n",
       "      <td>Four-Door Car</td>\n",
       "      <td>Medsize</td>\n",
       "      <td>10.060747</td>\n",
       "    </tr>\n",
       "    <tr>\n",
       "      <th>9130</th>\n",
       "      <td>California</td>\n",
       "      <td>Yes</td>\n",
       "      <td>Extended</td>\n",
       "      <td>College</td>\n",
       "      <td>734180</td>\n",
       "      <td>Employed</td>\n",
       "      <td>F</td>\n",
       "      <td>21604</td>\n",
       "      <td>Suburban</td>\n",
       "      <td>Divorced</td>\n",
       "      <td>79</td>\n",
       "      <td>14</td>\n",
       "      <td>28</td>\n",
       "      <td>0</td>\n",
       "      <td>1</td>\n",
       "      <td>Corporate Auto</td>\n",
       "      <td>Corporate L3</td>\n",
       "      <td>Offer1</td>\n",
       "      <td>Branch</td>\n",
       "      <td>379.200000</td>\n",
       "      <td>Four-Door Car</td>\n",
       "      <td>Medsize</td>\n",
       "      <td>8.038031</td>\n",
       "    </tr>\n",
       "    <tr>\n",
       "      <th>9131</th>\n",
       "      <td>California</td>\n",
       "      <td>No</td>\n",
       "      <td>Extended</td>\n",
       "      <td>Bachelor</td>\n",
       "      <td>734174</td>\n",
       "      <td>Unemployed</td>\n",
       "      <td>M</td>\n",
       "      <td>0</td>\n",
       "      <td>Suburban</td>\n",
       "      <td>Single</td>\n",
       "      <td>85</td>\n",
       "      <td>9</td>\n",
       "      <td>37</td>\n",
       "      <td>3</td>\n",
       "      <td>2</td>\n",
       "      <td>Corporate Auto</td>\n",
       "      <td>Corporate L2</td>\n",
       "      <td>Offer1</td>\n",
       "      <td>Branch</td>\n",
       "      <td>790.784983</td>\n",
       "      <td>Four-Door Car</td>\n",
       "      <td>Medsize</td>\n",
       "      <td>9.007476</td>\n",
       "    </tr>\n",
       "    <tr>\n",
       "      <th>9132</th>\n",
       "      <td>California</td>\n",
       "      <td>No</td>\n",
       "      <td>Extended</td>\n",
       "      <td>College</td>\n",
       "      <td>734171</td>\n",
       "      <td>Employed</td>\n",
       "      <td>M</td>\n",
       "      <td>21941</td>\n",
       "      <td>Suburban</td>\n",
       "      <td>Married</td>\n",
       "      <td>96</td>\n",
       "      <td>34</td>\n",
       "      <td>3</td>\n",
       "      <td>0</td>\n",
       "      <td>3</td>\n",
       "      <td>Personal Auto</td>\n",
       "      <td>Personal L2</td>\n",
       "      <td>Offer3</td>\n",
       "      <td>Branch</td>\n",
       "      <td>691.200000</td>\n",
       "      <td>Four-Door Car</td>\n",
       "      <td>Large</td>\n",
       "      <td>8.925912</td>\n",
       "    </tr>\n",
       "    <tr>\n",
       "      <th>9133</th>\n",
       "      <td>California</td>\n",
       "      <td>No</td>\n",
       "      <td>Extended</td>\n",
       "      <td>College</td>\n",
       "      <td>734182</td>\n",
       "      <td>Unemployed</td>\n",
       "      <td>M</td>\n",
       "      <td>0</td>\n",
       "      <td>Suburban</td>\n",
       "      <td>Single</td>\n",
       "      <td>77</td>\n",
       "      <td>3</td>\n",
       "      <td>90</td>\n",
       "      <td>0</td>\n",
       "      <td>1</td>\n",
       "      <td>Corporate Auto</td>\n",
       "      <td>Corporate L3</td>\n",
       "      <td>Offer4</td>\n",
       "      <td>Call Center</td>\n",
       "      <td>369.600000</td>\n",
       "      <td>Two-Door Car</td>\n",
       "      <td>Medsize</td>\n",
       "      <td>7.867809</td>\n",
       "    </tr>\n",
       "  </tbody>\n",
       "</table>\n",
       "<p>9134 rows × 23 columns</p>\n",
       "</div>"
      ],
      "text/plain": [
       "           state response  coverage education  effective_to_date  \\\n",
       "0     Washington       No     Basic  Bachelor             734192   \n",
       "1        Arizona       No  Extended  Bachelor             734168   \n",
       "2         Nevada       No   Premium  Bachelor             734187   \n",
       "3     California       No     Basic  Bachelor             734157   \n",
       "4     Washington       No     Basic  Bachelor             734171   \n",
       "...          ...      ...       ...       ...                ...   \n",
       "9129  California       No     Basic  Bachelor             734178   \n",
       "9130  California      Yes  Extended   College             734180   \n",
       "9131  California       No  Extended  Bachelor             734174   \n",
       "9132  California       No  Extended   College             734171   \n",
       "9133  California       No  Extended   College             734182   \n",
       "\n",
       "     employmentstatus gender  income location_code marital_status  \\\n",
       "0            Employed      F   56274      Suburban        Married   \n",
       "1          Unemployed      F       0      Suburban         Single   \n",
       "2            Employed      F   48767      Suburban        Married   \n",
       "3          Unemployed      M       0      Suburban        Married   \n",
       "4            Employed      M   43836         Rural         Single   \n",
       "...               ...    ...     ...           ...            ...   \n",
       "9129         Employed      M   71941         Urban        Married   \n",
       "9130         Employed      F   21604      Suburban       Divorced   \n",
       "9131       Unemployed      M       0      Suburban         Single   \n",
       "9132         Employed      M   21941      Suburban        Married   \n",
       "9133       Unemployed      M       0      Suburban         Single   \n",
       "\n",
       "      monthly_premium_auto  months_since_last_claim  \\\n",
       "0                       69                       32   \n",
       "1                       94                       13   \n",
       "2                      108                       18   \n",
       "3                      106                       18   \n",
       "4                       73                       12   \n",
       "...                    ...                      ...   \n",
       "9129                    73                       18   \n",
       "9130                    79                       14   \n",
       "9131                    85                        9   \n",
       "9132                    96                       34   \n",
       "9133                    77                        3   \n",
       "\n",
       "      months_since_policy_inception  number_of_open_complaints  \\\n",
       "0                                 5                          0   \n",
       "1                                42                          0   \n",
       "2                                38                          0   \n",
       "3                                65                          0   \n",
       "4                                44                          0   \n",
       "...                             ...                        ...   \n",
       "9129                             89                          0   \n",
       "9130                             28                          0   \n",
       "9131                             37                          3   \n",
       "9132                              3                          0   \n",
       "9133                             90                          0   \n",
       "\n",
       "      number_of_policies     policy_type        policy renew_offer_type  \\\n",
       "0                      1  Corporate Auto  Corporate L3           Offer1   \n",
       "1                      8   Personal Auto   Personal L3           Offer3   \n",
       "2                      2   Personal Auto   Personal L3           Offer1   \n",
       "3                      7  Corporate Auto  Corporate L2           Offer1   \n",
       "4                      1   Personal Auto   Personal L1           Offer1   \n",
       "...                  ...             ...           ...              ...   \n",
       "9129                   2   Personal Auto   Personal L1           Offer2   \n",
       "9130                   1  Corporate Auto  Corporate L3           Offer1   \n",
       "9131                   2  Corporate Auto  Corporate L2           Offer1   \n",
       "9132                   3   Personal Auto   Personal L2           Offer3   \n",
       "9133                   1  Corporate Auto  Corporate L3           Offer4   \n",
       "\n",
       "     sales_channel  total_claim_amount  vehicle_class vehicle_size  \\\n",
       "0            Agent          384.811147   Two-Door Car      Medsize   \n",
       "1            Agent         1131.464935  Four-Door Car      Medsize   \n",
       "2            Agent          566.472247   Two-Door Car      Medsize   \n",
       "3      Call Center          529.881344            SUV      Medsize   \n",
       "4            Agent          138.130879  Four-Door Car      Medsize   \n",
       "...            ...                 ...            ...          ...   \n",
       "9129           Web          198.234764  Four-Door Car      Medsize   \n",
       "9130        Branch          379.200000  Four-Door Car      Medsize   \n",
       "9131        Branch          790.784983  Four-Door Car      Medsize   \n",
       "9132        Branch          691.200000  Four-Door Car        Large   \n",
       "9133   Call Center          369.600000   Two-Door Car      Medsize   \n",
       "\n",
       "      customer_lifetime_value_log  \n",
       "0                        7.924260  \n",
       "1                        8.850738  \n",
       "2                        9.464008  \n",
       "3                        8.941920  \n",
       "4                        7.942253  \n",
       "...                           ...  \n",
       "9129                    10.060747  \n",
       "9130                     8.038031  \n",
       "9131                     9.007476  \n",
       "9132                     8.925912  \n",
       "9133                     7.867809  \n",
       "\n",
       "[9134 rows x 23 columns]"
      ]
     },
     "execution_count": 11,
     "metadata": {},
     "output_type": "execute_result"
    }
   ],
   "source": [
    "def log_transfom_clean1(x):\n",
    "    x = np.log(x)\n",
    "    if np.isfinite(x): #para protegernos del hecho de que log(0) = infinito\n",
    "        return x\n",
    "    else:\n",
    "        return 0\n",
    "\n",
    "data['customer_lifetime_value_log'] = list(map(log_transfom_clean1, data['customer_lifetime_value']))\n",
    "data.drop(columns='customer_lifetime_value')"
   ]
  },
  {
   "cell_type": "markdown",
   "id": "f8129c04-b078-488a-8d64-a4eaf20c19e1",
   "metadata": {},
   "source": [
    "- Normalization."
   ]
  },
  {
   "cell_type": "code",
   "execution_count": 12,
   "id": "c955f2d6-d19a-414d-9abe-f26dcaf85c74",
   "metadata": {},
   "outputs": [
    {
     "data": {
      "text/plain": [
       "0    0.931034\n",
       "1    0.517241\n",
       "2    0.844828\n",
       "3    0.327586\n",
       "4    0.568966\n",
       "Name: effective_to_date, dtype: float64"
      ]
     },
     "execution_count": 12,
     "metadata": {},
     "output_type": "execute_result"
    }
   ],
   "source": [
    "from sklearn.preprocessing import MinMaxScaler\n",
    "\n",
    "data['effective_to_date']=MinMaxScaler().fit_transform(data['effective_to_date'].values.reshape(-1, 1))\n",
    "\n",
    "data['effective_to_date'].head()"
   ]
  },
  {
   "cell_type": "markdown",
   "id": "b5c0e3cc-3de5-4fbf-9943-7a633d1f40b5",
   "metadata": {},
   "source": [
    "<font color='magenta'>\n",
    "Reescalamos la columna fecha a un rango entre -1 y 1"
   ]
  },
  {
   "cell_type": "code",
   "execution_count": 13,
   "id": "75ef4776-e10f-4098-b33e-5dc5b29bfd75",
   "metadata": {},
   "outputs": [],
   "source": [
    "from sklearn.preprocessing import StandardScaler\n",
    "\n",
    "for c in num_cols[:-1]:   # we'll normalize all less the target column\n",
    "    data[c]=StandardScaler().fit_transform(data[c].values.reshape(-1, 1))"
   ]
  },
  {
   "cell_type": "markdown",
   "id": "e9676c21-d700-4b82-aae9-3cc504b4de34",
   "metadata": {},
   "source": [
    "<font color='magenta'>\n",
    "Reescalamos todas las columnas numéricas al mismo estilo que antes la fecha, dejándolas en un rango entre -1 y 1."
   ]
  },
  {
   "cell_type": "markdown",
   "id": "d3803acb-d6da-4531-92fb-ae8f668a24f3",
   "metadata": {},
   "source": [
    "- Encoding Categorical Data."
   ]
  },
  {
   "cell_type": "code",
   "execution_count": 14,
   "id": "e5a153c7-503d-441e-a349-00f55f42256f",
   "metadata": {},
   "outputs": [],
   "source": [
    "one_hot_data=pd.get_dummies(data[cat_cols], drop_first=True)   # one hot encoding categorical variables"
   ]
  },
  {
   "cell_type": "markdown",
   "id": "c39c8788-aced-41c9-b395-44533eec649e",
   "metadata": {},
   "source": [
    "<font color='magenta'>\n",
    "Para las columnas categóricas, las separamos en tantas columnas como valores únicos tienen para que puedan quedar codificadas con ceros y unos únicamente y darles las mismas propiedades que a las numéricas"
   ]
  },
  {
   "cell_type": "code",
   "execution_count": 15,
   "id": "b754eed4-4fb2-4918-b884-3ee415390a1f",
   "metadata": {},
   "outputs": [],
   "source": [
    "data=pd.concat([data, one_hot_data], axis=1)   # concat dataframes\n",
    "data.drop(columns=cat_cols, inplace=True)"
   ]
  },
  {
   "cell_type": "markdown",
   "id": "58b223fc-ca37-45d6-8c01-47b490c252ea",
   "metadata": {},
   "source": [
    "<font color='magenta'>\n",
    "Las empalmamos al dataframe y borramos las categóricas originales"
   ]
  },
  {
   "cell_type": "markdown",
   "id": "43700792-86ef-420d-8757-5638d5256875",
   "metadata": {},
   "source": [
    "- Splitting into train set and test set."
   ]
  },
  {
   "cell_type": "code",
   "execution_count": 16,
   "id": "c9cec870-a83c-4634-9aad-fdfe7df61bb3",
   "metadata": {},
   "outputs": [
    {
     "name": "stdout",
     "output_type": "stream",
     "text": [
      "(9134, 52)\n",
      "(9134,)\n"
     ]
    }
   ],
   "source": [
    "# first, split X-y (learning-target data)\n",
    "X=data.drop(columns=['total_claim_amount'])\n",
    "y=data['total_claim_amount']\n",
    "\n",
    "# checking shape\n",
    "print(X.shape)\n",
    "print(y.shape)\n",
    "\n",
    "# train_test_split\n",
    "from sklearn.model_selection import train_test_split as tts\n",
    "\n",
    "# train-test-split (4 sets)\n",
    "\n",
    "X_train, X_test, y_train, y_test = tts(X, y, test_size=0.2, random_state=42)  # random state fixed sample"
   ]
  },
  {
   "cell_type": "markdown",
   "id": "54d82e8c-6bdd-4df7-aef9-b5ba22b37ebe",
   "metadata": {},
   "source": [
    "<font color='magenta'>\n",
    "Separamos toda la información en dos DataFrames, uno que servirá para entrenar al modelo (train) y otro para ponerlo a prueba (test)"
   ]
  },
  {
   "cell_type": "markdown",
   "id": "656bcd4b-9993-42fb-9326-1e9058ba1b65",
   "metadata": {},
   "source": [
    "### 05 - Modeling\n",
    "\n",
    "- Apply model."
   ]
  },
  {
   "cell_type": "markdown",
   "id": "8aa3cf79-c977-4443-abe2-20374b02c02a",
   "metadata": {},
   "source": [
    "**Linear Regression**"
   ]
  },
  {
   "cell_type": "code",
   "execution_count": 17,
   "id": "c6f6a893-7bf2-448e-8729-8e0f75d0d7a4",
   "metadata": {},
   "outputs": [],
   "source": [
    "from sklearn.linear_model import LinearRegression as LinReg\n",
    "linreg=LinReg()    # model\n",
    "linreg.fit(X_train, y_train)   # model train\n",
    "y_pred_linreg=linreg.predict(X_test)   # model prediction"
   ]
  },
  {
   "cell_type": "markdown",
   "id": "fc5e6309-dd51-438a-80d4-2362dba39c50",
   "metadata": {},
   "source": [
    "**Regularization**"
   ]
  },
  {
   "cell_type": "code",
   "execution_count": 18,
   "id": "5f1fc271-7582-4942-846f-ea0beb5c6f0d",
   "metadata": {},
   "outputs": [],
   "source": [
    "from sklearn.linear_model import Lasso       # L1\n",
    "from sklearn.linear_model import Ridge       # L2\n",
    "from sklearn.linear_model import ElasticNet  # L1+L2\n",
    "\n",
    "# Lasso L1\n",
    "\n",
    "lasso=Lasso()\n",
    "lasso.fit(X_train, y_train)\n",
    "\n",
    "y_pred_lasso = lasso.predict(X_test)"
   ]
  },
  {
   "cell_type": "code",
   "execution_count": 19,
   "id": "ee2151ab-35ab-4dcf-949a-2869d1f4ef0d",
   "metadata": {},
   "outputs": [],
   "source": [
    "# Ridge L2\n",
    "\n",
    "ridge=Ridge()\n",
    "ridge.fit(X_train, y_train)\n",
    "\n",
    "y_pred_ridge = ridge.predict(X_test)"
   ]
  },
  {
   "cell_type": "code",
   "execution_count": 20,
   "id": "556c964d-8665-49ff-a599-90b75ca8c02b",
   "metadata": {},
   "outputs": [],
   "source": [
    "# ElasticNet L1+L2\n",
    "\n",
    "elastic=ElasticNet()\n",
    "elastic.fit(X_train, y_train)\n",
    "\n",
    "y_pred_elastic = elastic.predict(X_test)"
   ]
  },
  {
   "cell_type": "markdown",
   "id": "2cb00d47-541f-4973-a393-155e4dbc38a3",
   "metadata": {},
   "source": [
    "**Random Forest Regressor**"
   ]
  },
  {
   "cell_type": "code",
   "execution_count": 21,
   "id": "678ece60-371d-489a-8370-22a2e312a53c",
   "metadata": {},
   "outputs": [],
   "source": [
    "from sklearn.ensemble import RandomForestRegressor as RFR\n",
    "\n",
    "rfr=RFR()\n",
    "rfr.fit(X_train, y_train)\n",
    "\n",
    "y_pred_rfr = rfr.predict(X_test)"
   ]
  },
  {
   "cell_type": "markdown",
   "id": "e5de64af-e4bb-4c6a-a4c4-f426a4a15f91",
   "metadata": {},
   "source": [
    "**XGBoost**"
   ]
  },
  {
   "cell_type": "code",
   "execution_count": 22,
   "id": "d3fa99ce-9157-4f92-8190-fc4d2791609a",
   "metadata": {},
   "outputs": [
    {
     "name": "stderr",
     "output_type": "stream",
     "text": [
      "C:\\Users\\EB885UN\\Anaconda3\\lib\\site-packages\\xgboost\\compat.py:36: FutureWarning: pandas.Int64Index is deprecated and will be removed from pandas in a future version. Use pandas.Index with the appropriate dtype instead.\n",
      "  from pandas import MultiIndex, Int64Index\n",
      "C:\\Users\\EB885UN\\Anaconda3\\lib\\site-packages\\xgboost\\data.py:250: FutureWarning: pandas.Int64Index is deprecated and will be removed from pandas in a future version. Use pandas.Index with the appropriate dtype instead.\n",
      "  elif isinstance(data.columns, (pd.Int64Index, pd.RangeIndex)):\n"
     ]
    }
   ],
   "source": [
    "from xgboost import XGBRegressor as XGBR\n",
    "\n",
    "xgbr=XGBR()\n",
    "xgbr.fit(X_train, y_train)\n",
    "\n",
    "y_pred_xgbr = xgbr.predict(X_test)"
   ]
  },
  {
   "cell_type": "markdown",
   "id": "9d98c195-641a-4885-9bcb-0ccf005a362b",
   "metadata": {},
   "source": [
    "**LightGBM**"
   ]
  },
  {
   "cell_type": "code",
   "execution_count": 23,
   "id": "2fc44544-1341-4552-ab32-9c6fafd02e33",
   "metadata": {},
   "outputs": [],
   "source": [
    "from lightgbm import LGBMRegressor as LGBMR\n",
    "\n",
    "lgbmr=LGBMR()\n",
    "lgbmr.fit(X_train, y_train)\n",
    "\n",
    "y_pred_lgbmr = lgbmr.predict(X_test)"
   ]
  },
  {
   "cell_type": "markdown",
   "id": "ffd240a4-b0e4-40cc-8d6f-6e06850c573e",
   "metadata": {},
   "source": [
    "### 06 - Model Validation\n",
    "\n",
    "- R2.\n",
    "- MSE.\n",
    "- RMSE.\n",
    "- MAE."
   ]
  },
  {
   "cell_type": "code",
   "execution_count": 24,
   "id": "47f5f837-3903-41df-8fcd-2693bf7a6401",
   "metadata": {},
   "outputs": [],
   "source": [
    "models=[linreg, lasso, ridge, elastic, rfr, xgbr, lgbmr]\n",
    "model_names=['linreg', 'lasso', 'ridge', 'elastic', 'rfr', 'xgbr', 'lgbmr']\n",
    "preds=[y_pred_linreg, y_pred_lasso, y_pred_ridge, y_pred_elastic, y_pred_rfr, y_pred_xgbr, y_pred_lgbmr]"
   ]
  },
  {
   "cell_type": "code",
   "execution_count": 25,
   "id": "a32a0f9c-eb8b-4c21-8a33-ab22ec5b6681",
   "metadata": {
    "tags": []
   },
   "outputs": [
    {
     "name": "stdout",
     "output_type": "stream",
     "text": [
      "Model: linreg, train R2: 0.7743104933661715 -- test R2: 0.7626241870121578\n",
      "Model: lasso, train R2: 0.7715826967448204 -- test R2: 0.7641349369878327\n",
      "Model: ridge, train R2: 0.7743097905274283 -- test R2: 0.7626546772281854\n",
      "Model: elastic, train R2: 0.5902260092738644 -- test R2: 0.5740797698810313\n",
      "Model: rfr, train R2: 0.9777628699372793 -- test R2: 0.8239162145559553\n",
      "Model: xgbr, train R2: 0.9700852137556878 -- test R2: 0.8152809199281833\n",
      "Model: lgbmr, train R2: 0.9179461550318032 -- test R2: 0.8274421958815128\n",
      "Model: linreg, train MSE: 19308.10847628691 -- test MSE: 18873.99794394276\n",
      "Model: lasso, train MSE: 19541.47596355671 -- test MSE: 18753.87664103579\n",
      "Model: ridge, train MSE: 19308.16860529733 -- test MSE: 18871.57363513315\n",
      "Model: elastic, train MSE: 35056.83884779822 -- test MSE: 33865.360781137264\n",
      "Model: rfr, train MSE: 1902.423049508118 -- test MSE: 14000.605043121115\n",
      "Model: xgbr, train MSE: 2559.259163020115 -- test MSE: 14687.206306318287\n",
      "Model: lgbmr, train MSE: 7019.841388163601 -- test MSE: 13720.25059819559\n",
      "Model: linreg, train RMSE: 138.95361987471543 -- test RMSE: 137.38266973655286\n",
      "Model: lasso, train RMSE: 139.79082932566325 -- test RMSE: 136.94479413630805\n",
      "Model: ridge, train RMSE: 138.9538362381454 -- test RMSE: 137.37384625587634\n",
      "Model: elastic, train RMSE: 187.23471592575513 -- test RMSE: 184.02543514725693\n",
      "Model: rfr, train RMSE: 43.61677486367049 -- test RMSE: 118.32415240820919\n",
      "Model: xgbr, train RMSE: 50.58912099473675 -- test RMSE: 121.19078474173804\n",
      "Model: lgbmr, train RMSE: 83.78449372147331 -- test RMSE: 117.13347343178887\n",
      "Model: linreg, train MAE: 95.2097619308961 -- test MAE: 94.55569252716873\n",
      "Model: lasso, train MAE: 95.48197173613579 -- test MAE: 94.08818062626843\n",
      "Model: ridge, train MAE: 95.17822946169633 -- test MAE: 94.52358255534281\n",
      "Model: elastic, train MAE: 126.51675862665722 -- test MAE: 125.68938305473347\n",
      "Model: rfr, train MAE: 27.007524658160655 -- test MAE: 73.9128953658785\n",
      "Model: xgbr, train MAE: 35.34119598034868 -- test MAE: 75.37553677714767\n",
      "Model: lgbmr, train MAE: 58.50504337774251 -- test MAE: 75.6888389694821\n"
     ]
    }
   ],
   "source": [
    "for i in range(len(models)):\n",
    "\n",
    "    train_score=models[i].score(X_train, y_train) #R2\n",
    "    test_score=models[i].score(X_test, y_test)\n",
    "\n",
    "    print ('Model: {}, train R2: {} -- test R2: {}'.format(model_names[i], train_score, test_score))\n",
    "\n",
    "    from sklearn.metrics import mean_squared_error as mse\n",
    "\n",
    "for i in range(len(models)):\n",
    "\n",
    "    train_mse=mse(models[i].predict(X_train), y_train) #MSE\n",
    "    test_mse=mse(preds[i], y_test)\n",
    "\n",
    "    print ('Model: {}, train MSE: {} -- test MSE: {}'.format(model_names[i], train_mse, test_mse))\n",
    "\n",
    "for i in range(len(models)):\n",
    "\n",
    "    train_rmse=mse(models[i].predict(X_train), y_train)**0.5 #RMSE\n",
    "    test_rmse=mse(preds[i], y_test)**0.5\n",
    "\n",
    "    print ('Model: {}, train RMSE: {} -- test RMSE: {}'.format(model_names[i], train_rmse, test_rmse))\n",
    "    \n",
    "from sklearn.metrics import mean_absolute_error as mae\n",
    "for i in range(len(models)):\n",
    "    train_mae=mae(models[i].predict(X_train), y_train) #MAE\n",
    "    test_mae=mae(preds[i], y_test)\n",
    "\n",
    "    print ('Model: {}, train MAE: {} -- test MAE: {}'.format(model_names[i], train_mae, test_mae))\n"
   ]
  },
  {
   "cell_type": "markdown",
   "id": "6f95c9ba-fc13-4938-b9a7-f9e2655f5b58",
   "metadata": {},
   "source": [
    "<font color='magenta'>\n",
    "La modificación planteada (aplicar transformación logarítmica en vez de quitar outliers) ha conseguido una mejor R2 (de 0,8248 a 0,8274) y MAE (de 74,0791 a 73,9128)"
   ]
  },
  {
   "cell_type": "code",
   "execution_count": null,
   "id": "1d476a48-b02e-4cff-9048-10b0a8eeaf89",
   "metadata": {},
   "outputs": [],
   "source": []
  }
 ],
 "metadata": {
  "kernelspec": {
   "display_name": "Python 3 (ipykernel)",
   "language": "python",
   "name": "python3"
  },
  "language_info": {
   "codemirror_mode": {
    "name": "ipython",
    "version": 3
   },
   "file_extension": ".py",
   "mimetype": "text/x-python",
   "name": "python",
   "nbconvert_exporter": "python",
   "pygments_lexer": "ipython3",
   "version": "3.9.12"
  }
 },
 "nbformat": 4,
 "nbformat_minor": 5
}
