{
 "cells": [
  {
   "cell_type": "markdown",
   "metadata": {},
   "source": [
    "# Lesson 6.1: Advanced PowerBI-Reading data from different sources-Data Manipulation\n",
    "\n",
    "### Lesson Duration: 3 hours\n",
    "\n",
    "> Purpose: In this lesson, we will quickly recap some of the techniques we have learned previously in PowerBI, review best practices from the PowerBI project tasks \n",
    "and we will build on what we know about data sources to connect to additional data sources. \n",
    "\n",
    "---\n",
    "\n",
    "### Learning Objectives\n",
    "\n",
    "After this lesson, students will be able to:\n",
    "\n",
    "- Connect PowerBI with different data sources\n",
    "- Model relationships between tables \n",
    "- Prepare data sources when needed\n",
    "- Use PowerBI transformations as needed\n",
    "\n",
    "---\n",
    "\n",
    "### Lesson 1 key concepts\n",
    "\n",
    "> :clock10: 20 min\n",
    "\n",
    "Recap the PowerBI techniques from unit 4. For this lesson we will use the `files_for_lesson_and_activities/bookshop.xlsx` \n",
    "\n",
    "- Get data from the excel workbook \n",
    "- Model the connections between tables\n",
    "- Building simple visualizations from the model \n",
    "\n",
    "\n",
    "**Connecting to multiple sheets of the same excel workbook:**\n",
    "\n",
    "- review the excel workbook. Evaluate the possible connections between tables, pointing out the book and author ids\n",
    "- in a new PowerBI workbook, get data - select excel and connect to the bookshop workbook\n",
    "- select the following tables (book, author, award, checkouts, edition, publisher, ratings \n",
    "- go the model view - some of the connections have been established. \n",
    "- review the table book - notice the columns are unnamed\n",
    "- go into Transform Data and for the book table, add a new transformation step asserting that the first row is used as a header \n",
    "- apply the transformation and preview the model \n",
    "- if not all relationships are created, do so manually \n",
    "- show how to hide a field from the report view\n",
    "- show how to rearrange the visual placement of tables in model view \n",
    "- go into the report view to see the tables assembled under Fields "
   ]
  },
  {
   "cell_type": "markdown",
   "metadata": {},
   "source": [
    "# 6.01 Activity 1 \n",
    "\n",
    "- using a pen and paper, sketch an ERD diagram of the tables in the excel workbook Bookshop to identify the expected relationships, keys(primary, foreign) and cardinality \n",
    "- as seen in the lesson, get this data source into PowerBI and add the tables: Author, Award, Book, Checkout, Edition, Publisher Ratings\n",
    "- ensure the tables are joined in the Model view - apply any needed transformations as seen in the lesson \n",
    "- also in the Model view, rearrange the tables to make the ERD easier to read - suggestion, the diagram should resemble a star schema as closely as possible \n",
    "- remaining in the Model view, hide any repeated fields (ids) from the report view \n",
    "- go into report view to review and validate the model you have assembled "
   ]
  },
  {
   "cell_type": "markdown",
   "metadata": {},
   "source": [
    "Solution (Image of the resulting model):"
   ]
  },
  {
   "cell_type": "markdown",
   "metadata": {},
   "source": [
    "https://education-team-2020.s3.eu-west-1.amazonaws.com/data-analytics/6.1-images/6.1-erd_act_1.png"
   ]
  },
  {
   "cell_type": "markdown",
   "metadata": {},
   "source": [
    "### Lesson 2 key concepts\n",
    "\n",
    "In this lesson, we will use the same PowerBI workbook that we used in the previous lesson. We will add another data source to demonstrate how to combine (union) files that have the same columns \n",
    "\n",
    "> :clock10: 20 min\n",
    "\n",
    "- Add a stacked data source to the model based on combined csv files \n",
    "- consider how to prepare the data for this purpose if the data sources are inside a workbook \n",
    "- Adding multiple data sources/connections\n",
    "\n",
    "**Get data and combine, transform as needed:**\n",
    "\n",
    "- download the folder Union_Sales from the lesson materials and unzip if needed \n",
    "- what does the file contains ?\n",
    "- discuss how this source differs in structure to the data in the Bookshop.xlsx - especially the Q1,2,3,4 tabs (hint : csv type and saved in a single folder)\n",
    "- using PowerBI Get data > more > Folder option browse to the file \n",
    "- this reveals an option to Combine when you start to get the data - discuss how they could prepare Q1,2,3,4 tabs of Bookshop.xlsx\n",
    "- note how a UNION differs from a JOIN in terms of combining data - these files have the same structure so they can be matched vertically, not horizontally - discussion\n",
    "- in the transformation stage it may be necessary to change column headers to first row\n",
    "- note the sales value column is stored as ABC text because of the $ symbol. Select the column and split on first from left $ as delimiter. \n",
    "- Rename the columns as **Sales_Month** and **Sales_Amount**\n",
    "- remove any null rows (often appearing due to duplicate headers)\n",
    "- check the model view - this is an unconnected data source so should not be connected to the model \n",
    "- check the report view to validate the union - create a matrix showing  the Month, Category and the Amount sold. "
   ]
  },
  {
   "cell_type": "markdown",
   "metadata": {},
   "source": [
    "# 6.01 Activity 2\n",
    "\n",
    "For this activity continue with the PowerBI workbook created in activity 1 \n",
    "- following the discussion in class you now need to prepare the data from the bookshop.xlsx file for a combining into one file as a new data source\n",
    "- using python or excel extract the tabs Sales Q1, Q2, Q3 and Q4 from bookshop.xlsx and convert them to .csv files\n",
    "- then, place these files into a single folder on your computer \n",
    "- from the PowerBI workbook > get data > more, navigate to the **folder** option \n",
    "- ensure the new data source is named appropriately \n",
    "- in the powerquery you should Combine the sources\n",
    "- add any transformation steps that are necessary\n",
    "- after getting the data into the model you must validate the data shape either in the preview or in the report view. This can be accomplished by simply creating a report containing the new field **Source.Name** \n",
    "- if it hasn't been detected, ensure the new combined sales data has been connected into the model using the right cardinality and connecting field(s) "
   ]
  },
  {
   "cell_type": "markdown",
   "metadata": {},
   "source": [
    "**Some images of the solution:**"
   ]
  },
  {
   "cell_type": "markdown",
   "metadata": {},
   "source": [
    "- https://education-team-2020.s3.eu-west-1.amazonaws.com/data-analytics/6.1-images/6.1-combine.png\n",
    "- https://education-team-2020.s3.eu-west-1.amazonaws.com/data-analytics/6.1-images/6.1-connection.png\n",
    "- https://education-team-2020.s3.eu-west-1.amazonaws.com/data-analytics/6.1-images/6.1.2-validate.png"
   ]
  },
  {
   "cell_type": "markdown",
   "metadata": {},
   "source": [
    "### Lesson 3 key concepts\n",
    "\n",
    "> :clock10: 20 min\n",
    "\n",
    "- Connect to final data sources\n",
    "\n",
    "\n",
    "**Connect to different types of data sources than excel and csv:**\n",
    "\n",
    "***Connection to mySQL***:\n",
    "- explore the get data options \n",
    "- go through the steps of connecting PowerBI with mysql to the Bank database and retrieving data by query\n",
    "- note that it will be necessary to enter connection credentials, as it was with sql + python in unit 3\n",
    "- cancel the mysql connector without loading \n",
    "\n",
    "***Connection to a PDF files***\n",
    "- from GetData, connect to PDF file type, select the `files_for_lesson_and_activities/amzn_stock.pdf` file\n",
    "- If you look at the PDF file, the tabular information is present from pages 2 to 8. Select the range 2 to 8 for the table definition \n",
    "- rename the data source to **Amazon_stock_prices**\n",
    "- load the data without transformation\n",
    "- note in the model this source should be kept separate from the model and no relationship detected \n",
    "- in report view create a validation report for the pdf - a line chart with the date on the X axis, and HIGH price on y axis \n",
    "- discuss why the chart is a flat line - its because the HIGH price is stored with $ as a string \n",
    "- edit the query from the data source on the Fields menu (or other method to re -enter the transformation steps) and add another step to resolve this\n",
    "- refresh the plot with the now numeric HIGH stock price value \n",
    "- do the same steps for the LOW stock price value \n",
    "- plot both on the line chart with different colours to validate the data import and transformations "
   ]
  },
  {
   "cell_type": "markdown",
   "metadata": {},
   "source": [
    "# Lab | PowerBI - Manipulating data from multiple sources \n",
    "\n",
    "Refer to the data source `Adventureworks_Database.xlsx`  and `Budget.pdf` in the `files_for_lab` folder for this lab.\n",
    "\n",
    "### Instructions \n",
    "\n",
    "The goal of this lab is to connect data from multiple sources and create visualizations from different tables. \n",
    "\n",
    "1. Import the excel file ``Adventureworks_Database`` and connect the following tables using the right relationships\n",
    "    - Calendar \n",
    "    - Sales \n",
    "    - Customer\n",
    "    - Territories\n",
    "    - Product\n",
    "2. Plot the following visualizations using the connected tables in a report: \n",
    "    - Quantity of products sold in each region by category \n",
    "    - Show total sales amount by year \n",
    "    - Show total sales by category and drill down by subcategory to share further insights\n",
    "    - Use a line chart to show total sales over time by Month\n",
    "3. Now connect the database `Budget_pdf` to your PowerBI workbook. Edit the column names as appropriate and merge all tables from the pdf into one query named `Budget_pdf`.\n",
    "4. Plot a bar chart comparison of the Budget against actual sales and filter out the year 2017. \n",
    "5. Open your MySQL client and create the database classic models by running the script `mysqlsampledata` located in the `files_for_lab` folder. The next step is to connect to the SQL database `classicmodels` from PowerBI as a new data source and select the following tables: \n",
    "   - offices\n",
    "   - payments\n",
    "   - products \n",
    "Connect the `Classicmodels offices` table to the `Territories` table in AdventureWorks and the `Classicmodels Payments` table to the `sales` table in Adventureworks using the appropriate relationships.\n",
    "6. Create a report (table) to show countries where both Classicmodels and Adventureworks have offices or operate in? \n",
    "7. Use a bar chart to compare the total sales of both companies, and filter each company's sales to 1 year only.  \n",
    "\n",
    "### Optional \n",
    "\n",
    "1. Plot a visual of any appropriate type"
   ]
  }
 ],
 "metadata": {
  "kernelspec": {
   "display_name": "Python 3",
   "language": "python",
   "name": "python3"
  },
  "language_info": {
   "codemirror_mode": {
    "name": "ipython",
    "version": 3
   },
   "file_extension": ".py",
   "mimetype": "text/x-python",
   "name": "python",
   "nbconvert_exporter": "python",
   "pygments_lexer": "ipython3",
   "version": "3.7.0"
  }
 },
 "nbformat": 4,
 "nbformat_minor": 4
}
